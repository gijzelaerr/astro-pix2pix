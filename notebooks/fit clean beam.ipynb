{
 "cells": [
  {
   "cell_type": "code",
   "execution_count": 44,
   "metadata": {},
   "outputs": [],
   "source": [
    "from astropy.io import fits\n",
    "from matplotlib import pyplot\n",
    "import scipy.optimize as opt\n",
    "import numpy as np\n",
    "import pathlib\n",
    "import re\n",
    "import os\n",
    "%matplotlib inline"
   ]
  },
  {
   "cell_type": "code",
   "execution_count": 64,
   "metadata": {},
   "outputs": [],
   "source": [
    "p = pathlib.Path(\"/scratch/datasets/astro_deconv_2019/\")\n",
    "\n",
    "output = \"/scratch/datasets/astro_deconv_2019_cleanbeam\""
   ]
  },
  {
   "cell_type": "code",
   "execution_count": 14,
   "metadata": {},
   "outputs": [],
   "source": [
    "psf_file = list(p.glob(\"*-psf.fits\"))[0]"
   ]
  },
  {
   "cell_type": "code",
   "execution_count": 15,
   "metadata": {},
   "outputs": [],
   "source": [
    "data = fits.open(psf_file)[0].data.squeeze()"
   ]
  },
  {
   "cell_type": "code",
   "execution_count": 17,
   "metadata": {},
   "outputs": [],
   "source": [
    "def twoD_Gaussian(pos, amplitude, xo, yo, sigma_x, sigma_y, theta, offset):\n",
    "    x, y = pos\n",
    "    xo = float(xo)\n",
    "    yo = float(yo)    \n",
    "    a = (np.cos(theta)**2)/(2*sigma_x**2) + (np.sin(theta)**2)/(2*sigma_y**2)\n",
    "    b = -(np.sin(2*theta))/(4*sigma_x**2) + (np.sin(2*theta))/(4*sigma_y**2)\n",
    "    c = (np.sin(theta)**2)/(2*sigma_x**2) + (np.cos(theta)**2)/(2*sigma_y**2)\n",
    "    g = offset + amplitude*np.exp( - (a*((x-xo)**2) + 2*b*(x-xo)*(y-yo) \n",
    "                            + c*((y-yo)**2)))\n",
    "    return g.ravel()"
   ]
  },
  {
   "cell_type": "code",
   "execution_count": 67,
   "metadata": {},
   "outputs": [],
   "source": [
    "def fit(data):\n",
    "    s = data.shape[0]\n",
    "    \n",
    "    x = np.linspace(0, s-1, s)\n",
    "    y = np.linspace(0, s-1, s)\n",
    "    x, y = np.meshgrid(x, y)\n",
    "    initial_guess = (1, s/2, s/2, 20, 20, 0, 0 )\n",
    "    popt, pcov = opt.curve_fit(twoD_Gaussian, (x, y), data.flatten(), p0=initial_guess,  maxfev=10000)\n",
    "    return twoD_Gaussian((x, y), *popt).reshape(s, s)"
   ]
  },
  {
   "cell_type": "code",
   "execution_count": 68,
   "metadata": {},
   "outputs": [
    {
     "name": "stdout",
     "output_type": "stream",
     "text": [
      "/scratch/datasets/astro_deconv_2019/609-wsclean-psf.fits\n",
      "/scratch/datasets/astro_deconv_2019/8271-wsclean-psf.fits\n",
      "/scratch/datasets/astro_deconv_2019/5224-wsclean-psf.fits\n",
      "/scratch/datasets/astro_deconv_2019/1674-wsclean-psf.fits\n",
      "error: Optimal parameters not found: Number of calls to function has reached maxfev = 10000.\n",
      "/scratch/datasets/astro_deconv_2019/8646-wsclean-psf.fits\n",
      "/scratch/datasets/astro_deconv_2019/9473-wsclean-psf.fits\n",
      "error: Optimal parameters not found: Number of calls to function has reached maxfev = 10000.\n",
      "/scratch/datasets/astro_deconv_2019/4158-wsclean-psf.fits\n",
      "error: Optimal parameters not found: Number of calls to function has reached maxfev = 10000.\n",
      "/scratch/datasets/astro_deconv_2019/7470-wsclean-psf.fits\n",
      "/scratch/datasets/astro_deconv_2019/380-wsclean-psf.fits\n",
      "/scratch/datasets/astro_deconv_2019/6798-wsclean-psf.fits\n",
      "/scratch/datasets/astro_deconv_2019/9850-wsclean-psf.fits\n",
      "/scratch/datasets/astro_deconv_2019/7348-wsclean-psf.fits\n",
      "/scratch/datasets/astro_deconv_2019/1002-wsclean-psf.fits\n"
     ]
    }
   ],
   "source": [
    "for psf_file in list(p.glob(\"*-wsclean-psf.fits\")):\n",
    "\n",
    "    index = re.match(r'(\\d+)-wsclean-psf\\.fits', pathlib.Path(psf_file).name)[1]\n",
    "    target = f'{output}/{index}-clean-beam.fits'\n",
    "    if pathlib.Path(target).is_file():\n",
    "        #print('skipping ' + target)\n",
    "        continue\n",
    "    try:\n",
    "        print(psf_file)\n",
    "        f = fits.open(psf_file)\n",
    "        data = f[0].data.squeeze()\n",
    "        clean_beam = fit(data)\n",
    "        hdu = fits.PrimaryHDU(clean_beam)\n",
    "        hdul = fits.HDUList([hdu])\n",
    "        hdul.header = f[0].header\n",
    "        hdul.writeto(target, overwrite=True)\n",
    "    except Exception as e:\n",
    "        print (f\"error: {e}\")\n",
    "        pass"
   ]
  },
  {
   "cell_type": "code",
   "execution_count": null,
   "metadata": {},
   "outputs": [],
   "source": []
  }
 ],
 "metadata": {
  "kernelspec": {
   "display_name": "Python 3",
   "language": "python",
   "name": "python3"
  },
  "language_info": {
   "codemirror_mode": {
    "name": "ipython",
    "version": 3
   },
   "file_extension": ".py",
   "mimetype": "text/x-python",
   "name": "python",
   "nbconvert_exporter": "python",
   "pygments_lexer": "ipython3",
   "version": "3.6.5"
  }
 },
 "nbformat": 4,
 "nbformat_minor": 2
}
