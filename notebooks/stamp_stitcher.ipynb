{
 "cells": [
  {
   "cell_type": "code",
   "execution_count": 1,
   "metadata": {},
   "outputs": [],
   "source": [
    "from itertools import product\n",
    "import queue\n",
    "import numpy as np\n",
    "from math import ceil\n",
    "import matplotlib.pyplot as plt\n",
    "from vacuum.util import AttrDict\n",
    "%matplotlib inline"
   ]
  },
  {
   "cell_type": "code",
   "execution_count": 2,
   "metadata": {},
   "outputs": [],
   "source": [
    "image_path = '/home/gijs/Pictures/background.jpg'"
   ]
  },
  {
   "cell_type": "code",
   "execution_count": 3,
   "metadata": {},
   "outputs": [],
   "source": [
    "class IterableQueue(queue.Queue):\n",
    "    def __iter__(self):\n",
    "        while True:\n",
    "            try:\n",
    "               yield self.get_nowait()\n",
    "            except queue.Empty:\n",
    "               return"
   ]
  },
  {
   "cell_type": "code",
   "execution_count": 4,
   "metadata": {},
   "outputs": [],
   "source": [
    "a = AttrDict()\n",
    "a.size = 256\n",
    "a.pad = 10"
   ]
  },
  {
   "cell_type": "code",
   "execution_count": 5,
   "metadata": {},
   "outputs": [],
   "source": [
    "big_data = plt.imread(image_path)[:,:,1]\n",
    "psf = big_data[0:255, 0:255]"
   ]
  },
  {
   "cell_type": "markdown",
   "metadata": {},
   "source": [
    "```\n",
    "definition\n",
    "\n",
    "- stamp: a subsection of the dirty image\n",
    "- padding: a region removed from a cleaned stamp on one or more sides\n",
    "- stride: the amount of pixels between stamp, typically stamp size - 2 * padding\n",
    "\n",
    "0,0         0,c\n",
    "+------------+\n",
    "|            +\n",
    "|            +\n",
    "|            +\n",
    "|            +\n",
    "|            +\n",
    "+------------+\n",
    "r,0         r,c\n",
    "\n",
    "1> do all corners, aligning the corner of the image with the corner of the stamp\n",
    "2> do the edges, only apply padding in direction of the edge\n",
    "3> do full image, row by row, padding on all sides of stamp (0,0)->(r,0), (0,1)->(x,1), ... , (0,y)->(x,y)\n",
    "\n",
    "note: it looks like numpy arrays flip x and y\n",
    "```"
   ]
  },
  {
   "cell_type": "code",
   "execution_count": 6,
   "metadata": {},
   "outputs": [],
   "source": [
    "TL = (slice(None, a.size), slice(None, a.size))\n",
    "BL = (slice(-a.size, None), slice(None, a.size))\n",
    "TR = (slice(None, a.size), slice(-a.size, None))\n",
    "BR = (slice(-a.size, None), slice(-a.size, None))\n",
    "\n",
    "stride = a.size - a.pad * 2\n",
    "n_r = int(big_data.shape[0] / stride)\n",
    "n_c = int(big_data.shape[1] / stride)\n",
    "n_r = int(big_data.shape[0] / stride)\n",
    "n_c = int(big_data.shape[1] / stride)\n"
   ]
  },
  {
   "cell_type": "code",
   "execution_count": 7,
   "metadata": {},
   "outputs": [],
   "source": [
    "def padded_generator(big_data, psf, n_r, n_c):\n",
    "    i = 0\n",
    "    for r, c in (TL, TR, BL, BR):  # step 1\n",
    "        print(f\"cleaning {i}: {r}, {c}\")\n",
    "        stamp = big_data[r, c]\n",
    "        yield i, stamp.min(), stamp.max(), psf, stamp\n",
    "        i += 1\n",
    "\n",
    "    for r in range(1, n_r):  # step 2: edges left right\n",
    "        start = stride * r\n",
    "        print(f\"cleaning {i}: {start}:{start + a.size}, :{a.size}\")\n",
    "        stamp = big_data[start:start + a.size, :a.size]  # 0,0 -> r,0\n",
    "        yield i, stamp.min(), stamp.max(), psf, stamp\n",
    "        i += 1\n",
    "\n",
    "        print(f\"cleaning {i}: {start}:{start + a.size}, {-a.size}:\")\n",
    "        stamp = big_data[start:start + a.size, -a.size:]  # 0,c -> r,c\n",
    "        yield i, stamp.min(), stamp.max(), psf, stamp\n",
    "        i += 1\n",
    "\n",
    "    for c in range(1, n_c):  # step 2: edges, top bottom\n",
    "        start = stride * c\n",
    "        print(f\"cleaning {i}: :{a.size}, {start}:{start + a.size}\")\n",
    "        stamp = big_data[:a.size, start:start + a.size]  # 0,0 -> 0,c\n",
    "        yield i, stamp.min(), stamp.max(), psf, stamp\n",
    "        i += 1\n",
    "\n",
    "        print(f\"cleaning {i}: {-a.size}:, {start}:{start + a.size}\")\n",
    "        stamp = big_data[-a.size:, start:start + a.size]  # 0,0 -> r,c\n",
    "        yield i, stamp.min(), stamp.max(), psf, stamp\n",
    "        i += 1\n",
    "\n",
    "    for r, c in product(range(1, n_r), range(1, n_c)):  # step 3\n",
    "        start_r = stride * r\n",
    "        start_c = stride * c\n",
    "        print(f\"cleaning {i}: {start_r}:{start_r + a.size}, {start_c}:{start_c + a.size}\")\n",
    "        stamp = big_data[start_r:start_r + a.size, start_c:start_c + a.size]\n",
    "        yield i, stamp.min(), stamp.max(), psf, stamp\n",
    "        i += 1"
   ]
  },
  {
   "cell_type": "code",
   "execution_count": 17,
   "metadata": {},
   "outputs": [],
   "source": [
    "def restore(shape, generator, n_r, n_c):\n",
    "    restored = np.zeros(shape=shape)\n",
    "\n",
    "    print(\"step 1: corners\")\n",
    "    for r, c in (TL, TR, BL, BR):\n",
    "        stamp = next(generator).squeeze()\n",
    "        restored[r, c] = stamp\n",
    "\n",
    "    print(\"step 2: edges\")\n",
    "    for r in range(1, n_r):\n",
    "        start = stride * r\n",
    "        stamp = next(generator).squeeze()[a.pad:-a.pad,:]\n",
    "        restored[start + a.pad:start + a.size - a.pad, :a.size] = stamp\n",
    "        stamp = next(generator).squeeze()[a.pad:-a.pad,:]\n",
    "        restored[start + a.pad:start + a.size - a.pad, -a.size:] = stamp\n",
    "\n",
    "    for c in range(1, n_c):\n",
    "        start = stride * c\n",
    "        stamp = next(generator).squeeze()[:,a.pad:-a.pad]\n",
    "        restored[:a.size, start + a.pad:start + a.size - a.pad] = stamp\n",
    "        stamp = next(generator).squeeze()[:,a.pad:-a.pad]\n",
    "        restored[-a.size:, start + a.pad:start + a.size - a.pad] = stamp\n",
    "\n",
    "    print(\"step 3: edges\")\n",
    "    for r, c in product(range(1, n_r), range(1, n_c)):\n",
    "        start_r = stride * r\n",
    "        start_c = stride * c\n",
    "        stamp = next(generator).squeeze()[a.pad:-a.pad,a.pad:-a.pad]\n",
    "        restored[start_r + a.pad:start_r + a.size - a.pad,\n",
    "                 start_c + a.pad:start_c + a.size - a.pad] = stamp\n",
    "\n",
    "    return restored"
   ]
  },
  {
   "cell_type": "code",
   "execution_count": 18,
   "metadata": {},
   "outputs": [],
   "source": [
    "queue_ = IterableQueue()\n",
    "for i in padded_generator(big_data, psf, n_r, n_c):\n",
    "    queue_.put(i[4])"
   ]
  },
  {
   "cell_type": "code",
   "execution_count": 19,
   "metadata": {},
   "outputs": [
    {
     "name": "stdout",
     "output_type": "stream",
     "text": [
      "step 1: corners\n",
      "step 2: edges\n"
     ]
    }
   ],
   "source": [
    "restored = restore(big_data.shape, iter(queue_), n_r, n_c)"
   ]
  },
  {
   "cell_type": "code",
   "execution_count": 20,
   "metadata": {},
   "outputs": [
    {
     "data": {
      "image/png": "[encoded data removed]",
      "text/plain": [
       "<Figure size 432x288 with 1 Axes>"
      ]
     },
     "metadata": {},
     "output_type": "display_data"
    }
   ],
   "source": [
    "imgplot = plt.imshow(restored)"
   ]
  },
  {
   "cell_type": "code",
   "execution_count": null,
   "metadata": {},
   "outputs": [],
   "source": []
  }
 ],
 "metadata": {
  "kernelspec": {
   "display_name": "Python 3",
   "language": "python",
   "name": "python3"
  },
  "language_info": {
   "codemirror_mode": {
    "name": "ipython",
    "version": 3
   },
   "file_extension": ".py",
   "mimetype": "text/x-python",
   "name": "python",
   "nbconvert_exporter": "python",
   "pygments_lexer": "ipython3",
   "version": "3.6.5"
  }
 },
 "nbformat": 4,
 "nbformat_minor": 2
}
