{
 "cells": [
  {
   "cell_type": "code",
   "execution_count": 1,
   "metadata": {},
   "outputs": [],
   "source": [
    "from astropy.io import fits\n",
    "import numpy as np\n",
    "import matplotlib.pyplot as plt\n",
    "%matplotlib inline  "
   ]
  },
  {
   "cell_type": "code",
   "execution_count": 2,
   "metadata": {},
   "outputs": [],
   "source": [
    "path = \"/home/gijs/Work/spiel/runs/run_2018-05-25-16-50-43/results\""
   ]
  },
  {
   "cell_type": "code",
   "execution_count": 3,
   "metadata": {},
   "outputs": [],
   "source": [
    "train_files = !ls $path/*-skymodel.fits"
   ]
  },
  {
   "cell_type": "code",
   "execution_count": 4,
   "metadata": {},
   "outputs": [],
   "source": [
    "text_files = !ls $path/*-skymodel.txt"
   ]
  },
  {
   "cell_type": "code",
   "execution_count": 5,
   "metadata": {},
   "outputs": [],
   "source": [
    "# use these for concatenated files\n",
    "#dirty = list(np.load(f\"{path}/{i}\")[:, 1024 // 2:] for i in train_files)\n",
    "#model = list(np.load(f\"{path}/{i}\")[:, :1024 // 2] for i in train_files)"
   ]
  },
  {
   "cell_type": "code",
   "execution_count": 6,
   "metadata": {},
   "outputs": [],
   "source": [
    "skymodels = [fits.open(i)[0].data for i in train_files]"
   ]
  },
  {
   "cell_type": "code",
   "execution_count": 7,
   "metadata": {},
   "outputs": [
    {
     "data": {
      "image/png": "[encoded data removed]",
      "text/plain": [
       "<Figure size 432x288 with 1 Axes>"
      ]
     },
     "metadata": {},
     "output_type": "display_data"
    }
   ],
   "source": [
    "_ = plt.hist([d.min() for d in skymodels], bins=\"auto\")"
   ]
  },
  {
   "cell_type": "code",
   "execution_count": 8,
   "metadata": {},
   "outputs": [
    {
     "data": {
      "image/png": "[encoded data removed]",
      "text/plain": [
       "<Figure size 432x288 with 1 Axes>"
      ]
     },
     "metadata": {},
     "output_type": "display_data"
    }
   ],
   "source": [
    "_ = plt.hist([d.max() for d in skymodels], bins=100)"
   ]
  },
  {
   "cell_type": "code",
   "execution_count": 9,
   "metadata": {},
   "outputs": [
    {
     "data": {
      "text/plain": [
       "0.000649"
      ]
     },
     "execution_count": 9,
     "metadata": {},
     "output_type": "execute_result"
    }
   ],
   "source": [
    "np.min([d.max() for d in skymodels])"
   ]
  },
  {
   "cell_type": "code",
   "execution_count": 10,
   "metadata": {},
   "outputs": [
    {
     "data": {
      "image/png": "[encoded data removed]",
      "text/plain": [
       "<Figure size 432x288 with 1 Axes>"
      ]
     },
     "metadata": {},
     "output_type": "display_data"
    }
   ],
   "source": [
    "_ = plt.hist([np.average(d) for d in skymodels])"
   ]
  },
  {
   "cell_type": "code",
   "execution_count": 251,
   "metadata": {},
   "outputs": [
    {
     "name": "stdout",
     "output_type": "stream",
     "text": [
      "0.0010002811432420202 0.0681237700949332 0.5666587043822366\n"
     ]
    },
    {
     "data": {
      "image/png": "[encoded data removed]",
      "text/plain": [
       "<Figure size 432x288 with 1 Axes>"
      ]
     },
     "metadata": {},
     "output_type": "display_data"
    }
   ],
   "source": [
    "dist = np.random.pareto(100, 1000) + 1e-3\n",
    "plt.hist(dist, bins=100)\n",
    "print(dist.min(), dist.max(), scale)"
   ]
  },
  {
   "cell_type": "code",
   "execution_count": 249,
   "metadata": {},
   "outputs": [],
   "source": [
    "dist = np.random.pareto"
   ]
  },
  {
   "cell_type": "code",
   "execution_count": 20,
   "metadata": {},
   "outputs": [],
   "source": [
    "np.str"
   ]
  },
  {
   "cell_type": "code",
   "execution_count": 26,
   "metadata": {},
   "outputs": [
    {
     "ename": "NameError",
     "evalue": "name 'f' is not defined",
     "output_type": "error",
     "traceback": [
      "\u001b[0;31m---------------------------------------------------------------------------\u001b[0m",
      "\u001b[0;31mNameError\u001b[0m                                 Traceback (most recent call last)",
      "\u001b[0;32m<ipython-input-26-c21fc87775fc>\u001b[0m in \u001b[0;36m<module>\u001b[0;34m()\u001b[0m\n\u001b[0;32m----> 1\u001b[0;31m \u001b[0;34m[\u001b[0m\u001b[0ml\u001b[0m\u001b[0;34m.\u001b[0m\u001b[0msplit\u001b[0m\u001b[0;34m(\u001b[0m\u001b[0;34m)\u001b[0m\u001b[0;34m[\u001b[0m\u001b[0;36m3\u001b[0m\u001b[0;34m]\u001b[0m \u001b[0;32mfor\u001b[0m \u001b[0ml\u001b[0m \u001b[0;32min\u001b[0m \u001b[0mopen\u001b[0m\u001b[0;34m(\u001b[0m\u001b[0mf\u001b[0m\u001b[0;34m)\u001b[0m\u001b[0;34m.\u001b[0m\u001b[0mreadlines\u001b[0m\u001b[0;34m(\u001b[0m\u001b[0;34m)\u001b[0m \u001b[0;32mif\u001b[0m \u001b[0;32mnot\u001b[0m \u001b[0ml\u001b[0m\u001b[0;34m.\u001b[0m\u001b[0mstartswith\u001b[0m\u001b[0;34m(\u001b[0m\u001b[0;34m'#'\u001b[0m\u001b[0;34m)\u001b[0m \u001b[0;32mfor\u001b[0m \u001b[0mf\u001b[0m \u001b[0;32min\u001b[0m \u001b[0mtext_files\u001b[0m\u001b[0;34m]\u001b[0m\u001b[0;34m\u001b[0m\u001b[0m\n\u001b[0m",
      "\u001b[0;31mNameError\u001b[0m: name 'f' is not defined"
     ]
    }
   ],
   "source": [
    "[l.split()[3] for l in open(f).readlines() if not l.startswith('#') for f in text_files]"
   ]
  },
  {
   "cell_type": "code",
   "execution_count": 34,
   "metadata": {},
   "outputs": [],
   "source": [
    "l = []\n",
    "for f in text_files:\n",
    "    l.append([np.max([float(l.split()[3]) for l in open(f).readlines() if not l.startswith('#')])])"
   ]
  },
  {
   "cell_type": "code",
   "execution_count": 38,
   "metadata": {},
   "outputs": [
    {
     "data": {
      "text/plain": [
       "0.000649"
      ]
     },
     "execution_count": 38,
     "metadata": {},
     "output_type": "execute_result"
    }
   ],
   "source": [
    "np.min(l)"
   ]
  },
  {
   "cell_type": "code",
   "execution_count": 39,
   "metadata": {},
   "outputs": [
    {
     "data": {
      "text/plain": [
       "[101,\n",
       " 101,\n",
       " 101,\n",
       " 101,\n",
       " 101,\n",
       " 101,\n",
       " 101,\n",
       " 101,\n",
       " 101,\n",
       " 101,\n",
       " 101,\n",
       " 101,\n",
       " 101,\n",
       " 101,\n",
       " 101,\n",
       " 101,\n",
       " 101,\n",
       " 101,\n",
       " 101,\n",
       " 101,\n",
       " 101,\n",
       " 101,\n",
       " 101,\n",
       " 101,\n",
       " 101,\n",
       " 101,\n",
       " 101,\n",
       " 101,\n",
       " 101,\n",
       " 101,\n",
       " 101,\n",
       " 101,\n",
       " 101,\n",
       " 101,\n",
       " 101,\n",
       " 101,\n",
       " 101,\n",
       " 101,\n",
       " 101,\n",
       " 101,\n",
       " 101,\n",
       " 101,\n",
       " 101,\n",
       " 101,\n",
       " 101,\n",
       " 101,\n",
       " 101,\n",
       " 101,\n",
       " 101,\n",
       " 101,\n",
       " 101,\n",
       " 101,\n",
       " 101,\n",
       " 101,\n",
       " 101,\n",
       " 101,\n",
       " 101,\n",
       " 101,\n",
       " 101,\n",
       " 101,\n",
       " 101,\n",
       " 101,\n",
       " 101,\n",
       " 101,\n",
       " 101,\n",
       " 101,\n",
       " 101,\n",
       " 101,\n",
       " 101,\n",
       " 101,\n",
       " 101,\n",
       " 101,\n",
       " 101,\n",
       " 101,\n",
       " 101,\n",
       " 101,\n",
       " 101,\n",
       " 101,\n",
       " 101,\n",
       " 101,\n",
       " 101,\n",
       " 101,\n",
       " 101,\n",
       " 101,\n",
       " 101,\n",
       " 101,\n",
       " 101,\n",
       " 101,\n",
       " 101,\n",
       " 101,\n",
       " 101,\n",
       " 101,\n",
       " 101,\n",
       " 101,\n",
       " 101,\n",
       " 101,\n",
       " 101,\n",
       " 101,\n",
       " 101,\n",
       " 101,\n",
       " 101,\n",
       " 101,\n",
       " 101,\n",
       " 101,\n",
       " 101,\n",
       " 101,\n",
       " 101,\n",
       " 101,\n",
       " 101,\n",
       " 101,\n",
       " 101,\n",
       " 101,\n",
       " 101,\n",
       " 101,\n",
       " 101,\n",
       " 101,\n",
       " 101,\n",
       " 101,\n",
       " 101,\n",
       " 101,\n",
       " 101,\n",
       " 101,\n",
       " 101,\n",
       " 101,\n",
       " 101,\n",
       " 101,\n",
       " 101,\n",
       " 101,\n",
       " 101,\n",
       " 101,\n",
       " 101,\n",
       " 101,\n",
       " 101,\n",
       " 101,\n",
       " 101,\n",
       " 101,\n",
       " 101,\n",
       " 101,\n",
       " 101,\n",
       " 101,\n",
       " 101,\n",
       " 101,\n",
       " 101,\n",
       " 101,\n",
       " 101,\n",
       " 101,\n",
       " 101,\n",
       " 101,\n",
       " 101,\n",
       " 101,\n",
       " 101,\n",
       " 101,\n",
       " 101,\n",
       " 101,\n",
       " 101,\n",
       " 101,\n",
       " 101,\n",
       " 101,\n",
       " 101,\n",
       " 101,\n",
       " 101,\n",
       " 101,\n",
       " 101,\n",
       " 101,\n",
       " 101,\n",
       " 101,\n",
       " 101,\n",
       " 101,\n",
       " 101,\n",
       " 101,\n",
       " 101,\n",
       " 101,\n",
       " 101,\n",
       " 101,\n",
       " 101,\n",
       " 101,\n",
       " 101,\n",
       " 101,\n",
       " 101,\n",
       " 101,\n",
       " 101,\n",
       " 101,\n",
       " 101,\n",
       " 101,\n",
       " 101,\n",
       " 101,\n",
       " 101,\n",
       " 101,\n",
       " 101,\n",
       " 101,\n",
       " 101,\n",
       " 101,\n",
       " 101,\n",
       " 101,\n",
       " 101,\n",
       " 101,\n",
       " 101,\n",
       " 101,\n",
       " 101,\n",
       " 101,\n",
       " 101,\n",
       " 101,\n",
       " 101,\n",
       " 101,\n",
       " 101,\n",
       " 101,\n",
       " 101,\n",
       " 101,\n",
       " 101,\n",
       " 101,\n",
       " 101,\n",
       " 101,\n",
       " 101,\n",
       " 101,\n",
       " 101,\n",
       " 101,\n",
       " 101,\n",
       " 101,\n",
       " 101,\n",
       " 101,\n",
       " 101,\n",
       " 101,\n",
       " 101,\n",
       " 101,\n",
       " 101,\n",
       " 101,\n",
       " 101,\n",
       " 101,\n",
       " 101,\n",
       " 101,\n",
       " 101,\n",
       " 101,\n",
       " 101,\n",
       " 101,\n",
       " 101,\n",
       " 101,\n",
       " 101,\n",
       " 101,\n",
       " 101,\n",
       " 101,\n",
       " 101,\n",
       " 101,\n",
       " 101,\n",
       " 101,\n",
       " 101,\n",
       " 101,\n",
       " 101,\n",
       " 101,\n",
       " 101,\n",
       " 101,\n",
       " 101,\n",
       " 101,\n",
       " 101,\n",
       " 101,\n",
       " 101,\n",
       " 101,\n",
       " 101,\n",
       " 101,\n",
       " 101,\n",
       " 101,\n",
       " 101,\n",
       " 101,\n",
       " 101,\n",
       " 101,\n",
       " 101,\n",
       " 101,\n",
       " 101,\n",
       " 101,\n",
       " 101,\n",
       " 101,\n",
       " 101,\n",
       " 101,\n",
       " 101,\n",
       " 101,\n",
       " 101,\n",
       " 101,\n",
       " 101,\n",
       " 101,\n",
       " 101,\n",
       " 101,\n",
       " 101,\n",
       " 101,\n",
       " 101,\n",
       " 101,\n",
       " 101,\n",
       " 101,\n",
       " 101,\n",
       " 101,\n",
       " 101,\n",
       " 101,\n",
       " 101,\n",
       " 101,\n",
       " 101,\n",
       " 101,\n",
       " 101,\n",
       " 101,\n",
       " 101,\n",
       " 101,\n",
       " 101,\n",
       " 101,\n",
       " 101,\n",
       " 101,\n",
       " 101,\n",
       " 101,\n",
       " 101,\n",
       " 101,\n",
       " 101,\n",
       " 101,\n",
       " 101,\n",
       " 101,\n",
       " 101,\n",
       " 101,\n",
       " 101,\n",
       " 101,\n",
       " 101,\n",
       " 101,\n",
       " 101,\n",
       " 101,\n",
       " 101,\n",
       " 101,\n",
       " 101,\n",
       " 101,\n",
       " 101,\n",
       " 101,\n",
       " 101,\n",
       " 101,\n",
       " 101,\n",
       " 101,\n",
       " 101,\n",
       " 101,\n",
       " 101,\n",
       " 101,\n",
       " 101,\n",
       " 101,\n",
       " 101,\n",
       " 101,\n",
       " 101,\n",
       " 101,\n",
       " 101,\n",
       " 101,\n",
       " 101,\n",
       " 101,\n",
       " 101,\n",
       " 101,\n",
       " 101,\n",
       " 101,\n",
       " 101,\n",
       " 101,\n",
       " 101,\n",
       " 101,\n",
       " 101,\n",
       " 101,\n",
       " 101,\n",
       " 101,\n",
       " 101,\n",
       " 101,\n",
       " 101,\n",
       " 101,\n",
       " 101,\n",
       " 101,\n",
       " 101,\n",
       " 101,\n",
       " 101,\n",
       " 101,\n",
       " 101,\n",
       " 101,\n",
       " 101,\n",
       " 101,\n",
       " 101,\n",
       " 101,\n",
       " 101,\n",
       " 101,\n",
       " 101,\n",
       " 101,\n",
       " 101,\n",
       " 101,\n",
       " 101,\n",
       " 101,\n",
       " 101,\n",
       " 101,\n",
       " 101,\n",
       " 101,\n",
       " 101,\n",
       " 101,\n",
       " 101,\n",
       " 101,\n",
       " 101,\n",
       " 101,\n",
       " 101,\n",
       " 101,\n",
       " 101,\n",
       " 101,\n",
       " 101,\n",
       " 101,\n",
       " 101,\n",
       " 101,\n",
       " 101,\n",
       " 101,\n",
       " 101,\n",
       " 101,\n",
       " 101,\n",
       " 101,\n",
       " 101,\n",
       " 101,\n",
       " 101,\n",
       " 101,\n",
       " 101,\n",
       " 101,\n",
       " 101,\n",
       " 101,\n",
       " 101,\n",
       " 101,\n",
       " 101,\n",
       " 101,\n",
       " 101,\n",
       " 101,\n",
       " 101,\n",
       " 101,\n",
       " 101,\n",
       " 101,\n",
       " 101,\n",
       " 101,\n",
       " 101,\n",
       " 101,\n",
       " 101,\n",
       " 101,\n",
       " 101,\n",
       " 101,\n",
       " 101,\n",
       " 101,\n",
       " 101,\n",
       " 101,\n",
       " 101,\n",
       " 101,\n",
       " 101,\n",
       " 101,\n",
       " 101,\n",
       " 101,\n",
       " 101,\n",
       " 101,\n",
       " 101,\n",
       " 101,\n",
       " 101,\n",
       " 101,\n",
       " 101,\n",
       " 101,\n",
       " 101,\n",
       " 101,\n",
       " 101,\n",
       " 101,\n",
       " 101,\n",
       " 101,\n",
       " 101,\n",
       " 101,\n",
       " 101,\n",
       " 101,\n",
       " 101,\n",
       " 101,\n",
       " 101,\n",
       " 101,\n",
       " 101,\n",
       " 101,\n",
       " 101,\n",
       " 101,\n",
       " 101,\n",
       " 101,\n",
       " 101,\n",
       " 101,\n",
       " 101,\n",
       " 101,\n",
       " 101,\n",
       " 101,\n",
       " 101,\n",
       " 101,\n",
       " 101,\n",
       " 101,\n",
       " 101,\n",
       " 101,\n",
       " 101,\n",
       " 101,\n",
       " 101,\n",
       " 101,\n",
       " 101,\n",
       " 101,\n",
       " 101,\n",
       " 101,\n",
       " 101,\n",
       " 101,\n",
       " 101,\n",
       " 101,\n",
       " 101,\n",
       " 101,\n",
       " 101,\n",
       " 101,\n",
       " 101,\n",
       " 101,\n",
       " 101,\n",
       " 101,\n",
       " 101,\n",
       " 101,\n",
       " 101,\n",
       " 101,\n",
       " 101,\n",
       " 101,\n",
       " 101,\n",
       " 101,\n",
       " 101,\n",
       " 101,\n",
       " 101,\n",
       " 101,\n",
       " 101,\n",
       " 101,\n",
       " 101,\n",
       " 101,\n",
       " 101,\n",
       " 101,\n",
       " 101,\n",
       " 101,\n",
       " 101,\n",
       " 101,\n",
       " 101,\n",
       " 101,\n",
       " 101,\n",
       " 101,\n",
       " 101,\n",
       " 101,\n",
       " 101,\n",
       " 101,\n",
       " 101,\n",
       " 101,\n",
       " 101,\n",
       " 101,\n",
       " 101,\n",
       " 101,\n",
       " 101,\n",
       " 101,\n",
       " 101,\n",
       " 101,\n",
       " 101,\n",
       " 101,\n",
       " 101,\n",
       " 101,\n",
       " 101,\n",
       " 101,\n",
       " 101,\n",
       " 101,\n",
       " 101,\n",
       " 101,\n",
       " 101,\n",
       " 101,\n",
       " 101,\n",
       " 101,\n",
       " 101,\n",
       " 101,\n",
       " 101,\n",
       " 101,\n",
       " 101,\n",
       " 101,\n",
       " 101,\n",
       " 101,\n",
       " 101,\n",
       " 101,\n",
       " 101,\n",
       " 101,\n",
       " 101,\n",
       " 101,\n",
       " 101,\n",
       " 101,\n",
       " 101,\n",
       " 101,\n",
       " 101,\n",
       " 101,\n",
       " 101,\n",
       " 101,\n",
       " 101,\n",
       " 101,\n",
       " 101,\n",
       " 101,\n",
       " 101,\n",
       " 101,\n",
       " 101,\n",
       " 101,\n",
       " 101,\n",
       " 101,\n",
       " 101,\n",
       " 101,\n",
       " 101,\n",
       " 101,\n",
       " 101,\n",
       " 101,\n",
       " 101,\n",
       " 101,\n",
       " 101,\n",
       " 101,\n",
       " 101,\n",
       " 101,\n",
       " 101,\n",
       " 101,\n",
       " 101,\n",
       " 101]"
      ]
     },
     "execution_count": 39,
     "metadata": {},
     "output_type": "execute_result"
    }
   ],
   "source": [
    "[len(open(f).readlines()) for f in text_files]"
   ]
  },
  {
   "cell_type": "code",
   "execution_count": 45,
   "metadata": {},
   "outputs": [
    {
     "data": {
      "text/plain": [
       "array([0.3222291 , 0.02196636, 0.07862461, 1.48282928, 0.03033601])"
      ]
     },
     "execution_count": 45,
     "metadata": {},
     "output_type": "execute_result"
    }
   ],
   "source": [
    "np.random.pareto(5, 5) * 1"
   ]
  },
  {
   "cell_type": "code",
   "execution_count": 46,
   "metadata": {},
   "outputs": [
    {
     "ename": "ModuleNotFoundError",
     "evalue": "No module named 'yaml'",
     "output_type": "error",
     "traceback": [
      "\u001b[0;31m---------------------------------------------------------------------------\u001b[0m",
      "\u001b[0;31mModuleNotFoundError\u001b[0m                       Traceback (most recent call last)",
      "\u001b[0;32m<ipython-input-46-38c9922a026e>\u001b[0m in \u001b[0;36m<module>\u001b[0;34m()\u001b[0m\n\u001b[0;32m----> 1\u001b[0;31m \u001b[0;32mimport\u001b[0m \u001b[0myaml\u001b[0m\u001b[0;34m\u001b[0m\u001b[0m\n\u001b[0m",
      "\u001b[0;31mModuleNotFoundError\u001b[0m: No module named 'yaml'"
     ]
    }
   ],
   "source": [
    "import yaml"
   ]
  },
  {
   "cell_type": "code",
   "execution_count": 47,
   "metadata": {},
   "outputs": [],
   "source": [
    "  with open(\"settings.txt\", \"w\") as f:\n",
    "      for i in (\"l\", \"dist\"):\n",
    "        f.write(\"{}: {}\\n\".format(i, locals()[i]))"
   ]
  },
  {
   "cell_type": "code",
   "execution_count": 180,
   "metadata": {},
   "outputs": [],
   "source": [
    "x = [np.random.uniform(0.0000001, 1) for i in range(1000)]"
   ]
  },
  {
   "cell_type": "code",
   "execution_count": 205,
   "metadata": {},
   "outputs": [
    {
     "data": {
      "text/plain": [
       "0.9774687804457959"
      ]
     },
     "execution_count": 205,
     "metadata": {},
     "output_type": "execute_result"
    }
   ],
   "source": [
    "np.random.uniform(0.0000001, 1)"
   ]
  },
  {
   "cell_type": "code",
   "execution_count": 234,
   "metadata": {},
   "outputs": [],
   "source": [
    "y = [np.random.uniform(1,6) ** np.random.uniform(-6, 1) for i in range(1000)]"
   ]
  },
  {
   "cell_type": "code",
   "execution_count": 235,
   "metadata": {},
   "outputs": [
    {
     "data": {
      "image/png": "[encoded data removed]",
      "text/plain": [
       "<Figure size 432x288 with 1 Axes>"
      ]
     },
     "metadata": {},
     "output_type": "display_data"
    }
   ],
   "source": [
    "_ = plt.hist(y)"
   ]
  },
  {
   "cell_type": "code",
   "execution_count": 252,
   "metadata": {},
   "outputs": [
    {
     "data": {
      "text/plain": [
       "1000000.0"
      ]
     },
     "execution_count": 252,
     "metadata": {},
     "output_type": "execute_result"
    }
   ],
   "source": [
    "1e6"
   ]
  }
 ],
 "metadata": {
  "kernelspec": {
   "display_name": "Python 3",
   "language": "python",
   "name": "python3"
  },
  "language_info": {
   "codemirror_mode": {
    "name": "ipython",
    "version": 3
   },
   "file_extension": ".py",
   "mimetype": "text/x-python",
   "name": "python",
   "nbconvert_exporter": "python",
   "pygments_lexer": "ipython3",
   "version": "3.6.5"
  }
 },
 "nbformat": 4,
 "nbformat_minor": 2
}
