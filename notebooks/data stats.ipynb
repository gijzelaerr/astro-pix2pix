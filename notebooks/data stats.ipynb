{
 "cells": [
  {
   "cell_type": "code",
   "execution_count": 1,
   "metadata": {},
   "outputs": [],
   "source": [
    "from astropy.io import fits\n",
    "import numpy as np\n",
    "import tensorflow as tf"
   ]
  },
  {
   "cell_type": "code",
   "execution_count": 2,
   "metadata": {},
   "outputs": [
    {
     "name": "stdout",
     "output_type": "stream",
     "text": [
      "scratch/spiel_test_var_psf/fits/400-inputs.fits\r\n",
      "scratch/spiel_test_var_psf/fits/400-outputs.fits\r\n",
      "scratch/spiel_test_var_psf/fits/400-residuals.fits\r\n",
      "scratch/spiel_test_var_psf/fits/400-targets.fits\r\n"
     ]
    }
   ],
   "source": [
    "!ls scratch/spiel_test_var_psf/fits/400*"
   ]
  },
  {
   "cell_type": "code",
   "execution_count": 3,
   "metadata": {},
   "outputs": [],
   "source": [
    "var_psf = !ls scratch/spiel_test_var_psf/fits/*-residuals.fits\n",
    "noscale = !ls scratch/spiel_test_noscale/fits/*-residuals.fits\n",
    "notan = !ls scratch/spiel_test_var_psf_notan/fits/*-residuals.fits\n",
    "multiscale = !ls scratch/spiel_test_multiscale/fits/*-residuals.fits\n",
    "hdr = !ls scratch/spiel_test_hdr/fits/*-residuals.fits"
   ]
  },
  {
   "cell_type": "code",
   "execution_count": 4,
   "metadata": {},
   "outputs": [],
   "source": [
    "rms = lambda x: np.sum(np.square(x))"
   ]
  },
  {
   "cell_type": "code",
   "execution_count": 5,
   "metadata": {},
   "outputs": [],
   "source": [
    "rms_var_psf = [rms(fits.open(i)[0].data) for i in var_psf]\n",
    "rms_noscale = [rms(fits.open(i)[0].data) for i in noscale]\n",
    "rms_notan = [rms(fits.open(i)[0].data) for i in notan]\n",
    "rms_multiscale = [rms(fits.open(i)[0].data) for i in multiscale]\n",
    "rms_hdr = [rms(fits.open(i)[0].data) for i in hdr]"
   ]
  },
  {
   "cell_type": "code",
   "execution_count": 6,
   "metadata": {},
   "outputs": [
    {
     "data": {
      "text/plain": [
       "[11.673036, 12.418399, 10.456104, 5.7386956, 10.591216]"
      ]
     },
     "execution_count": 6,
     "metadata": {},
     "output_type": "execute_result"
    }
   ],
   "source": [
    "[np.average(x) for x in [rms_var_psf, rms_noscale, rms_notan, rms_multiscale, rms_hdr]]"
   ]
  },
  {
   "cell_type": "code",
   "execution_count": null,
   "metadata": {},
   "outputs": [],
   "source": []
  },
  {
   "cell_type": "code",
   "execution_count": 7,
   "metadata": {},
   "outputs": [
    {
     "name": "stdout",
     "output_type": "stream",
     "text": [
      "0-skymodel.fits\t\t 1-wsclean-image.fits\t  2-wsclean-residual.fits\r\n",
      "0-skymodel.txt\t\t 1-wsclean-model.fits\t  3-skymodel.fits\r\n",
      "0-wsclean-dirty.fits\t 1-wsclean-psf.fits\t  3-skymodel.txt\r\n",
      "0-wsclean-image.fits\t 1-wsclean-residual.fits  3-wsclean-dirty.fits\r\n",
      "0-wsclean-model.fits\t 2-skymodel.fits\t  3-wsclean-image.fits\r\n",
      "0-wsclean-psf.fits\t 2-skymodel.txt\t\t  3-wsclean-model.fits\r\n",
      "0-wsclean-residual.fits  2-wsclean-dirty.fits\t  3-wsclean-psf.fits\r\n",
      "1-skymodel.fits\t\t 2-wsclean-image.fits\t  3-wsclean-residual.fits\r\n",
      "1-skymodel.txt\t\t 2-wsclean-model.fits\r\n",
      "1-wsclean-dirty.fits\t 2-wsclean-psf.fits\r\n"
     ]
    }
   ],
   "source": [
    "!ls /home/gijs/Work/spiel/results/"
   ]
  },
  {
   "cell_type": "code",
   "execution_count": 8,
   "metadata": {},
   "outputs": [
    {
     "data": {
      "text/plain": [
       "[1.03, 1.05, 0.0459, 0.785]"
      ]
     },
     "execution_count": 8,
     "metadata": {},
     "output_type": "execute_result"
    }
   ],
   "source": [
    "files = !ls /home/gijs/Work/spiel/results/*-skymodel.fits\n",
    "[fits.open(i)[0].data.max() for i in files]"
   ]
  },
  {
   "cell_type": "code",
   "execution_count": 9,
   "metadata": {},
   "outputs": [
    {
     "data": {
      "text/plain": [
       "[0.93312705, 1.0144283, 0.043181516, 0.7501933]"
      ]
     },
     "execution_count": 9,
     "metadata": {},
     "output_type": "execute_result"
    }
   ],
   "source": [
    "files = !ls /home/gijs/Work/spiel/results/*-wsclean-dirty.fits\n",
    "[fits.open(i)[0].data.max() for i in files]"
   ]
  },
  {
   "cell_type": "code",
   "execution_count": 10,
   "metadata": {},
   "outputs": [],
   "source": [
    "hdr_train = \"/home/gijs/Work/astro-pix2pix/datasets/spiel_hdr/test/400.npy\"\n",
    "target_np = np.load(hdr_train)[:, :512 // 2]\n",
    "input_np = np.load(hdr_train)[:, 512 // 2:]"
   ]
  },
  {
   "cell_type": "code",
   "execution_count": 11,
   "metadata": {},
   "outputs": [
    {
     "data": {
      "text/plain": [
       "(0.0, 0.513, -0.086591, 0.50760436)"
      ]
     },
     "execution_count": 11,
     "metadata": {},
     "output_type": "execute_result"
    }
   ],
   "source": [
    "target_np.min(), target_np.max(), input_np.min(), input_np.max()"
   ]
  },
  {
   "cell_type": "code",
   "execution_count": 12,
   "metadata": {},
   "outputs": [],
   "source": [
    "target_tf_fits_path = \"/home/gijs/Work/astro-pix2pix/scratch/spiel_test_hdr/fits/400-targets.fits\"\n",
    "target_tf_fits = fits.open(target_tf_fits_path)[0].data\n",
    "input_tf_fits = fits.open(\"/home/gijs/Work/astro-pix2pix/scratch/spiel_test_hdr/fits/400-inputs.fits\")[0].data"
   ]
  },
  {
   "cell_type": "code",
   "execution_count": 13,
   "metadata": {},
   "outputs": [
    {
     "data": {
      "text/plain": [
       "(0.0, 2.12, -0.47427642, 2.2891319)"
      ]
     },
     "execution_count": 13,
     "metadata": {},
     "output_type": "execute_result"
    }
   ],
   "source": [
    "target_tf_fits.min(), target_tf_fits.max(), input_tf_fits.min(), input_tf_fits.max()"
   ]
  },
  {
   "cell_type": "code",
   "execution_count": 14,
   "metadata": {},
   "outputs": [],
   "source": [
    "target_tf = np.load(\"/home/gijs/Work/astro-pix2pix/scratch/spiel_test_hdr/npys/400-targets.npy\")\n",
    "input_tf = np.load(\"/home/gijs/Work/astro-pix2pix/scratch/spiel_test_hdr/npys/400-inputs.npy\")"
   ]
  },
  {
   "cell_type": "code",
   "execution_count": 15,
   "metadata": {},
   "outputs": [
    {
     "data": {
      "text/plain": [
       "(0.0, 2.12, -0.47427642, 2.2891319)"
      ]
     },
     "execution_count": 15,
     "metadata": {},
     "output_type": "execute_result"
    }
   ],
   "source": [
    "target_tf.min(), target_tf.max(), input_tf.min(), input_tf.max()"
   ]
  },
  {
   "cell_type": "code",
   "execution_count": 16,
   "metadata": {},
   "outputs": [],
   "source": [
    "def npy_decode(content):\n",
    "    def internal(data):\n",
    "        img = np.load(BytesIO(data)).astype(np.float32)\n",
    "        img = np.expand_dims(img, axis=3)\n",
    "        return img\n",
    "    return tf.py_func(internal, [content], tf.float32)\n",
    "\n",
    "def npy_encode(image):\n",
    "    def internal(data):\n",
    "        buf = BytesIO()\n",
    "        np.save(buf, data)\n",
    "        return buf.getvalue()\n",
    "    return tf.py_func(internal, [image], tf.string)"
   ]
  },
  {
   "cell_type": "code",
   "execution_count": null,
   "metadata": {},
   "outputs": [],
   "source": [
    "roundtrip.eval()"
   ]
  }
 ],
 "metadata": {
  "kernelspec": {
   "display_name": "Python 3",
   "language": "python",
   "name": "python3"
  },
  "language_info": {
   "codemirror_mode": {
    "name": "ipython",
    "version": 3
   },
   "file_extension": ".py",
   "mimetype": "text/x-python",
   "name": "python",
   "nbconvert_exporter": "python",
   "pygments_lexer": "ipython3",
   "version": "3.6.5"
  }
 },
 "nbformat": 4,
 "nbformat_minor": 2
}
