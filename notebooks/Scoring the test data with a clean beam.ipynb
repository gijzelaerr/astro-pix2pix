{
 "cells": [
  {
   "cell_type": "code",
   "execution_count": 1,
   "metadata": {},
   "outputs": [],
   "source": [
    "from scipy.signal import fftconvolve\n",
    "from astropy.io import fits\n",
    "import matplotlib.pyplot as plt\n",
    "import numpy as np\n",
    "%matplotlib inline"
   ]
  },
  {
   "cell_type": "code",
   "execution_count": 6,
   "metadata": {},
   "outputs": [],
   "source": [
    "test_set = \"/scratch/datasets/astro_deconv_2019/val/\"\n",
    "test_start = 9700\n",
    "test_end = 10000"
   ]
  },
  {
   "cell_type": "code",
   "execution_count": 7,
   "metadata": {},
   "outputs": [],
   "source": [
    "#neural_output = \"/scratch/vacuum-cleaner/test/astro_deconv_2019_l1gan/fits/\"  #2.207\n",
    "#neural_output = \"/scratch/vacuum-cleaner/test/astro_deconv_2019_res_gan/fits/\" # 2.29\n",
    "#neural_output = \"/scratch/vacuum-cleaner/test/astro_deconv_2019_res_gan_noscale_30Kiter/fits/\" # 2.23\n",
    "#neural_output = \"/scratch/vacuum-cleaner/test/astro_deconv_2019_res_gan_noscale_lesslayers/fits/\"\n",
    "#neural_output = \"/scratch/vacuum-cleaner/eval/astro_deconv_2019_res_gan_noscale_half_dataset/60000/fits/\"  # 1.295\n",
    "#neural_output = \"/scratch/vacuum-cleaner/eval/astro_deconv_2019_res_gan_noscale_half_dataset/30000/fits/\"  # 1.15\n",
    "#neural_output = \"/scratch/vacuum-cleaner/eval/astro_deconv_2019_res_gan_noscale/60000/fits/\"  # 2.545\n",
    "#neural_output = \"/scratch/vacuum-cleaner/eval/astro_deconv_2019_res_gan_noscale/30000/fits/\"  # 3.6\n",
    "#neural_output = \"/scratch/vacuum-cleaner/eval/astro_deconv_2019_res_gan_noscale_quarter_dataset/30000/fits/\" # 4.25\n",
    "#neural_output = \"/scratch/vacuum-cleaner/eval/astro_deconv_2019_res_gan_noscale_quarter_dataset/60000/fits/\" #  1.28\n",
    "#neural_output = \"/scratch/vacuum-cleaner/eval/astro_deconv_2019_res_gan_noscale_verify/60000/fits/\"  # 1.09\n",
    "#neural_output = \"/scratch/vacuum-cleaner/eval/astro_deconv_2019_res_gan_noscale_nopsf/60000/fits/\" # 1.14\n",
    "#neural_output = \"/scratch/vacuum-cleaner/eval_train/astro_deconv_2019_res_gan_noscale/60000/fits/\"  # 2.45\n",
    "#neural_output = \"/scratch/vacuum-cleaner/final_eval/gan/test/100000/fits/\"  # 2.43\n",
    "#neural_output = \"/scratch/vacuum-cleaner/final_eval/gan/test/run1/100000/fits/\" # 2.437\n",
    "#neural_output = \"/scratch/vacuum-cleaner/final_eval/gan/test/run2/100000/fits/\" # 2.825\n",
    "#neural_output = \"/scratch/vacuum-cleaner/final_eval/gan/test/run3/100000/fits/\" # 1.6173\n",
    "#neural_output = \"/scratch/vacuum-cleaner/final_eval/gan/test/run4/100000/fits/\" # 1.450\n",
    "#neural_output = \"/scratch/vacuum-cleaner/final_eval/gan/test/run5/100000/fits/\" # 46.99\n",
    "#neural_output = \"/scratch/vacuum-cleaner/final_eval/gan/test/run6/100000/fits/\"  # 1.556\n",
    "#neural_output = \"/scratch/vacuum-cleaner/final_eval/gan/test/run7/100000/fits/\"  # 1.2357\n",
    "#neural_output = \"/scratch/vacuum-cleaner/final_eval/gan/test/run8/100000/fits/\"  # 1.119\n",
    "#neural_output = \"/scratch/vacuum-cleaner/final_eval/gan/test/run9/100000/fits/\"  # 1.3466\n",
    "#neural_output = \"/scratch/vacuum-cleaner/final_eval/gan/test/run10/100000/fits/\" # 1.920\n",
    "\n",
    "#neural_output = \"/scratch/vacuum-cleaner/final_eval/gan_psf/test/run1/100000/fits/\"\n",
    "#neural_output = \"/scratch/vacuum-cleaner/final_eval/gan_psf/test/run2/100000/fits/\"\n",
    "#neural_output = \"/scratch/vacuum-cleaner/final_eval/gan_psf/test/run3/100000/fits/\"\n",
    "#neural_output = \"/scratch/vacuum-cleaner/final_eval/gan_psf/test/run4/100000/fits/\"  # 4507.48\n",
    "#neural_output = \"/scratch/vacuum-cleaner/final_eval/gan_psf/test/run5/100000/fits/\" # 2.00\n",
    "#neural_output = \"/scratch/vacuum-cleaner/final_eval/gan_psf/test/run6/100000/fits/\" # 1.484\n",
    "#neural_output = \"/scratch/vacuum-cleaner/final_eval/gan_psf/test/run7/100000/fits/\" # 10.612\n",
    "#neural_output = \"/scratch/vacuum-cleaner/final_eval/gan_psf/test/run8/100000/fits/\"  # 1.336\n",
    "#neural_output = \"/scratch/vacuum-cleaner/final_eval/gan_psf/test/run9/100000/fits/\"\n",
    "#neural_output = \"/scratch/vacuum-cleaner/final_eval/gan_psf/test/run10/100000/fits/\"\n",
    "\n",
    "#neural_output = \"/scratch/vacuum-cleaner/tmp/tryout_separable_conv/fits/\" # 1.17\n",
    "\n",
    "#neural_output = \"/scratch/vacuum-cleaner/final_eval_lr/gan/test/run1/100000/fits/\" # 1.32\n",
    "#neural_output = \"/scratch/vacuum-cleaner/final_eval_lr/gan/test/run2/100000/fits/\" # 1.32\n",
    "#neural_output = \"/scratch/vacuum-cleaner/final_eval_lr/gan_psf/test/run1/10000/fits/\" # 1.94\n",
    "neural_output = \"/scratch/vacuum-cleaner/final_eval_lr/gan_psf/test/run10/100000/fits/\" # 1.52\n",
    "neural_output = \"/scratch/vacuum-cleaner/final_eval_lr/gan_psf/test/run8/50000/fits/\" # 1.28"
   ]
  },
  {
   "cell_type": "code",
   "execution_count": 8,
   "metadata": {},
   "outputs": [],
   "source": [
    "def render(a, imgdata, title):\n",
    "    i = a.pcolor(imgdata, cmap='cubehelix')\n",
    "    f.colorbar(i, ax=a)\n",
    "    a.set_title(title)\n",
    "    \n",
    "def open_fits(x):\n",
    "    return fits.open(x)[0].data.squeeze()\n",
    "\n",
    "def convolve(convoled, convolver):\n",
    "    p = convolver.shape[0]\n",
    "    r = slice(p//2, -p//2+1)    # uneven PSF needs +2, even psf +1\n",
    "    return fftconvolve(convoled, convolver, mode=\"full\")[r,r]"
   ]
  },
  {
   "cell_type": "code",
   "execution_count": 9,
   "metadata": {},
   "outputs": [
    {
     "ename": "FileNotFoundError",
     "evalue": "[Errno 2] No such file or directory: '/scratch/vacuum-cleaner/final_eval_lr/gan_psf/test/run8/50000/fits/9700-outputs.fits'",
     "output_type": "error",
     "traceback": [
      "\u001b[0;31m---------------------------------------------------------------------------\u001b[0m",
      "\u001b[0;31mFileNotFoundError\u001b[0m                         Traceback (most recent call last)",
      "\u001b[0;32m<ipython-input-9-c989c5a15a61>\u001b[0m in \u001b[0;36m<module>\u001b[0;34m()\u001b[0m\n\u001b[1;32m     13\u001b[0m     \u001b[0mtarget\u001b[0m \u001b[0;34m=\u001b[0m \u001b[0mopen_fits\u001b[0m\u001b[0;34m(\u001b[0m\u001b[0mtarget_path\u001b[0m\u001b[0;34m)\u001b[0m\u001b[0;34m\u001b[0m\u001b[0;34m\u001b[0m\u001b[0m\n\u001b[1;32m     14\u001b[0m     \u001b[0mwsclean_model\u001b[0m \u001b[0;34m=\u001b[0m \u001b[0mopen_fits\u001b[0m\u001b[0;34m(\u001b[0m\u001b[0mwsclean_model_path\u001b[0m\u001b[0;34m)\u001b[0m\u001b[0;34m\u001b[0m\u001b[0;34m\u001b[0m\u001b[0m\n\u001b[0;32m---> 15\u001b[0;31m     \u001b[0mneural_model\u001b[0m \u001b[0;34m=\u001b[0m \u001b[0mopen_fits\u001b[0m\u001b[0;34m(\u001b[0m\u001b[0mneural_model_path\u001b[0m \u001b[0;34m)\u001b[0m\u001b[0;34m\u001b[0m\u001b[0;34m\u001b[0m\u001b[0m\n\u001b[0m\u001b[1;32m     16\u001b[0m \u001b[0;34m\u001b[0m\u001b[0m\n\u001b[1;32m     17\u001b[0m     \u001b[0mtarget_convolved\u001b[0m \u001b[0;34m=\u001b[0m \u001b[0mconvolve\u001b[0m\u001b[0;34m(\u001b[0m\u001b[0mtarget\u001b[0m\u001b[0;34m,\u001b[0m \u001b[0mclean_beam\u001b[0m\u001b[0;34m)\u001b[0m\u001b[0;34m\u001b[0m\u001b[0;34m\u001b[0m\u001b[0m\n",
      "\u001b[0;32m<ipython-input-8-2bf6b85291f9>\u001b[0m in \u001b[0;36mopen_fits\u001b[0;34m(x)\u001b[0m\n\u001b[1;32m      5\u001b[0m \u001b[0;34m\u001b[0m\u001b[0m\n\u001b[1;32m      6\u001b[0m \u001b[0;32mdef\u001b[0m \u001b[0mopen_fits\u001b[0m\u001b[0;34m(\u001b[0m\u001b[0mx\u001b[0m\u001b[0;34m)\u001b[0m\u001b[0;34m:\u001b[0m\u001b[0;34m\u001b[0m\u001b[0;34m\u001b[0m\u001b[0m\n\u001b[0;32m----> 7\u001b[0;31m     \u001b[0;32mreturn\u001b[0m \u001b[0mfits\u001b[0m\u001b[0;34m.\u001b[0m\u001b[0mopen\u001b[0m\u001b[0;34m(\u001b[0m\u001b[0mx\u001b[0m\u001b[0;34m)\u001b[0m\u001b[0;34m[\u001b[0m\u001b[0;36m0\u001b[0m\u001b[0;34m]\u001b[0m\u001b[0;34m.\u001b[0m\u001b[0mdata\u001b[0m\u001b[0;34m.\u001b[0m\u001b[0msqueeze\u001b[0m\u001b[0;34m(\u001b[0m\u001b[0;34m)\u001b[0m\u001b[0;34m\u001b[0m\u001b[0;34m\u001b[0m\u001b[0m\n\u001b[0m\u001b[1;32m      8\u001b[0m \u001b[0;34m\u001b[0m\u001b[0m\n\u001b[1;32m      9\u001b[0m \u001b[0;32mdef\u001b[0m \u001b[0mconvolve\u001b[0m\u001b[0;34m(\u001b[0m\u001b[0mconvoled\u001b[0m\u001b[0;34m,\u001b[0m \u001b[0mconvolver\u001b[0m\u001b[0;34m)\u001b[0m\u001b[0;34m:\u001b[0m\u001b[0;34m\u001b[0m\u001b[0;34m\u001b[0m\u001b[0m\n",
      "\u001b[0;32m~/Work/vacuum-cleaner/.venv3/lib/python3.6/site-packages/astropy/io/fits/hdu/hdulist.py\u001b[0m in \u001b[0;36mfitsopen\u001b[0;34m(name, mode, memmap, save_backup, cache, lazy_load_hdus, **kwargs)\u001b[0m\n\u001b[1;32m    164\u001b[0m \u001b[0;34m\u001b[0m\u001b[0m\n\u001b[1;32m    165\u001b[0m     return HDUList.fromfile(name, mode, memmap, save_backup, cache,\n\u001b[0;32m--> 166\u001b[0;31m                             lazy_load_hdus, **kwargs)\n\u001b[0m\u001b[1;32m    167\u001b[0m \u001b[0;34m\u001b[0m\u001b[0m\n\u001b[1;32m    168\u001b[0m \u001b[0;34m\u001b[0m\u001b[0m\n",
      "\u001b[0;32m~/Work/vacuum-cleaner/.venv3/lib/python3.6/site-packages/astropy/io/fits/hdu/hdulist.py\u001b[0m in \u001b[0;36mfromfile\u001b[0;34m(cls, fileobj, mode, memmap, save_backup, cache, lazy_load_hdus, **kwargs)\u001b[0m\n\u001b[1;32m    400\u001b[0m         return cls._readfrom(fileobj=fileobj, mode=mode, memmap=memmap,\n\u001b[1;32m    401\u001b[0m                              \u001b[0msave_backup\u001b[0m\u001b[0;34m=\u001b[0m\u001b[0msave_backup\u001b[0m\u001b[0;34m,\u001b[0m \u001b[0mcache\u001b[0m\u001b[0;34m=\u001b[0m\u001b[0mcache\u001b[0m\u001b[0;34m,\u001b[0m\u001b[0;34m\u001b[0m\u001b[0;34m\u001b[0m\u001b[0m\n\u001b[0;32m--> 402\u001b[0;31m                              lazy_load_hdus=lazy_load_hdus, **kwargs)\n\u001b[0m\u001b[1;32m    403\u001b[0m \u001b[0;34m\u001b[0m\u001b[0m\n\u001b[1;32m    404\u001b[0m     \u001b[0;34m@\u001b[0m\u001b[0mclassmethod\u001b[0m\u001b[0;34m\u001b[0m\u001b[0;34m\u001b[0m\u001b[0m\n",
      "\u001b[0;32m~/Work/vacuum-cleaner/.venv3/lib/python3.6/site-packages/astropy/io/fits/hdu/hdulist.py\u001b[0m in \u001b[0;36m_readfrom\u001b[0;34m(cls, fileobj, data, mode, memmap, save_backup, cache, lazy_load_hdus, **kwargs)\u001b[0m\n\u001b[1;32m    987\u001b[0m             \u001b[0;32mif\u001b[0m \u001b[0;32mnot\u001b[0m \u001b[0misinstance\u001b[0m\u001b[0;34m(\u001b[0m\u001b[0mfileobj\u001b[0m\u001b[0;34m,\u001b[0m \u001b[0m_File\u001b[0m\u001b[0;34m)\u001b[0m\u001b[0;34m:\u001b[0m\u001b[0;34m\u001b[0m\u001b[0;34m\u001b[0m\u001b[0m\n\u001b[1;32m    988\u001b[0m                 \u001b[0;31m# instantiate a FITS file object (ffo)\u001b[0m\u001b[0;34m\u001b[0m\u001b[0;34m\u001b[0m\u001b[0;34m\u001b[0m\u001b[0m\n\u001b[0;32m--> 989\u001b[0;31m                 \u001b[0mfileobj\u001b[0m \u001b[0;34m=\u001b[0m \u001b[0m_File\u001b[0m\u001b[0;34m(\u001b[0m\u001b[0mfileobj\u001b[0m\u001b[0;34m,\u001b[0m \u001b[0mmode\u001b[0m\u001b[0;34m=\u001b[0m\u001b[0mmode\u001b[0m\u001b[0;34m,\u001b[0m \u001b[0mmemmap\u001b[0m\u001b[0;34m=\u001b[0m\u001b[0mmemmap\u001b[0m\u001b[0;34m,\u001b[0m \u001b[0mcache\u001b[0m\u001b[0;34m=\u001b[0m\u001b[0mcache\u001b[0m\u001b[0;34m)\u001b[0m\u001b[0;34m\u001b[0m\u001b[0;34m\u001b[0m\u001b[0m\n\u001b[0m\u001b[1;32m    990\u001b[0m             \u001b[0;31m# The Astropy mode is determined by the _File initializer if the\u001b[0m\u001b[0;34m\u001b[0m\u001b[0;34m\u001b[0m\u001b[0;34m\u001b[0m\u001b[0m\n\u001b[1;32m    991\u001b[0m             \u001b[0;31m# supplied mode was None\u001b[0m\u001b[0;34m\u001b[0m\u001b[0;34m\u001b[0m\u001b[0;34m\u001b[0m\u001b[0m\n",
      "\u001b[0;32m~/Work/vacuum-cleaner/.venv3/lib/python3.6/site-packages/astropy/utils/decorators.py\u001b[0m in \u001b[0;36mwrapper\u001b[0;34m(*args, **kwargs)\u001b[0m\n\u001b[1;32m    486\u001b[0m                         \u001b[0;31m# one with the name of the new argument to the function\u001b[0m\u001b[0;34m\u001b[0m\u001b[0;34m\u001b[0m\u001b[0;34m\u001b[0m\u001b[0m\n\u001b[1;32m    487\u001b[0m                         \u001b[0mkwargs\u001b[0m\u001b[0;34m[\u001b[0m\u001b[0mnew_name\u001b[0m\u001b[0;34m[\u001b[0m\u001b[0mi\u001b[0m\u001b[0;34m]\u001b[0m\u001b[0;34m]\u001b[0m \u001b[0;34m=\u001b[0m \u001b[0mvalue\u001b[0m\u001b[0;34m\u001b[0m\u001b[0;34m\u001b[0m\u001b[0m\n\u001b[0;32m--> 488\u001b[0;31m             \u001b[0;32mreturn\u001b[0m \u001b[0mfunction\u001b[0m\u001b[0;34m(\u001b[0m\u001b[0;34m*\u001b[0m\u001b[0margs\u001b[0m\u001b[0;34m,\u001b[0m \u001b[0;34m**\u001b[0m\u001b[0mkwargs\u001b[0m\u001b[0;34m)\u001b[0m\u001b[0;34m\u001b[0m\u001b[0;34m\u001b[0m\u001b[0m\n\u001b[0m\u001b[1;32m    489\u001b[0m \u001b[0;34m\u001b[0m\u001b[0m\n\u001b[1;32m    490\u001b[0m         \u001b[0;32mreturn\u001b[0m \u001b[0mwrapper\u001b[0m\u001b[0;34m\u001b[0m\u001b[0;34m\u001b[0m\u001b[0m\n",
      "\u001b[0;32m~/Work/vacuum-cleaner/.venv3/lib/python3.6/site-packages/astropy/io/fits/file.py\u001b[0m in \u001b[0;36m__init__\u001b[0;34m(self, fileobj, mode, memmap, overwrite, cache)\u001b[0m\n\u001b[1;32m    173\u001b[0m             \u001b[0mself\u001b[0m\u001b[0;34m.\u001b[0m\u001b[0m_open_fileobj\u001b[0m\u001b[0;34m(\u001b[0m\u001b[0mfileobj\u001b[0m\u001b[0;34m,\u001b[0m \u001b[0mmode\u001b[0m\u001b[0;34m,\u001b[0m \u001b[0moverwrite\u001b[0m\u001b[0;34m)\u001b[0m\u001b[0;34m\u001b[0m\u001b[0;34m\u001b[0m\u001b[0m\n\u001b[1;32m    174\u001b[0m         \u001b[0;32melif\u001b[0m \u001b[0misinstance\u001b[0m\u001b[0;34m(\u001b[0m\u001b[0mfileobj\u001b[0m\u001b[0;34m,\u001b[0m \u001b[0mstr\u001b[0m\u001b[0;34m)\u001b[0m\u001b[0;34m:\u001b[0m\u001b[0;34m\u001b[0m\u001b[0;34m\u001b[0m\u001b[0m\n\u001b[0;32m--> 175\u001b[0;31m             \u001b[0mself\u001b[0m\u001b[0;34m.\u001b[0m\u001b[0m_open_filename\u001b[0m\u001b[0;34m(\u001b[0m\u001b[0mfileobj\u001b[0m\u001b[0;34m,\u001b[0m \u001b[0mmode\u001b[0m\u001b[0;34m,\u001b[0m \u001b[0moverwrite\u001b[0m\u001b[0;34m)\u001b[0m\u001b[0;34m\u001b[0m\u001b[0;34m\u001b[0m\u001b[0m\n\u001b[0m\u001b[1;32m    176\u001b[0m         \u001b[0;32melse\u001b[0m\u001b[0;34m:\u001b[0m\u001b[0;34m\u001b[0m\u001b[0;34m\u001b[0m\u001b[0m\n\u001b[1;32m    177\u001b[0m             \u001b[0mself\u001b[0m\u001b[0;34m.\u001b[0m\u001b[0m_open_filelike\u001b[0m\u001b[0;34m(\u001b[0m\u001b[0mfileobj\u001b[0m\u001b[0;34m,\u001b[0m \u001b[0mmode\u001b[0m\u001b[0;34m,\u001b[0m \u001b[0moverwrite\u001b[0m\u001b[0;34m)\u001b[0m\u001b[0;34m\u001b[0m\u001b[0;34m\u001b[0m\u001b[0m\n",
      "\u001b[0;32m~/Work/vacuum-cleaner/.venv3/lib/python3.6/site-packages/astropy/io/fits/file.py\u001b[0m in \u001b[0;36m_open_filename\u001b[0;34m(self, filename, mode, overwrite)\u001b[0m\n\u001b[1;32m    529\u001b[0m \u001b[0;34m\u001b[0m\u001b[0m\n\u001b[1;32m    530\u001b[0m         \u001b[0;32mif\u001b[0m \u001b[0;32mnot\u001b[0m \u001b[0mself\u001b[0m\u001b[0;34m.\u001b[0m\u001b[0m_try_read_compressed\u001b[0m\u001b[0;34m(\u001b[0m\u001b[0mself\u001b[0m\u001b[0;34m.\u001b[0m\u001b[0mname\u001b[0m\u001b[0;34m,\u001b[0m \u001b[0mmagic\u001b[0m\u001b[0;34m,\u001b[0m \u001b[0mmode\u001b[0m\u001b[0;34m,\u001b[0m \u001b[0mext\u001b[0m\u001b[0;34m=\u001b[0m\u001b[0mext\u001b[0m\u001b[0;34m)\u001b[0m\u001b[0;34m:\u001b[0m\u001b[0;34m\u001b[0m\u001b[0;34m\u001b[0m\u001b[0m\n\u001b[0;32m--> 531\u001b[0;31m             \u001b[0mself\u001b[0m\u001b[0;34m.\u001b[0m\u001b[0m_file\u001b[0m \u001b[0;34m=\u001b[0m \u001b[0mfileobj_open\u001b[0m\u001b[0;34m(\u001b[0m\u001b[0mself\u001b[0m\u001b[0;34m.\u001b[0m\u001b[0mname\u001b[0m\u001b[0;34m,\u001b[0m \u001b[0mIO_FITS_MODES\u001b[0m\u001b[0;34m[\u001b[0m\u001b[0mmode\u001b[0m\u001b[0;34m]\u001b[0m\u001b[0;34m)\u001b[0m\u001b[0;34m\u001b[0m\u001b[0;34m\u001b[0m\u001b[0m\n\u001b[0m\u001b[1;32m    532\u001b[0m             \u001b[0mself\u001b[0m\u001b[0;34m.\u001b[0m\u001b[0mclose_on_error\u001b[0m \u001b[0;34m=\u001b[0m \u001b[0;32mTrue\u001b[0m\u001b[0;34m\u001b[0m\u001b[0;34m\u001b[0m\u001b[0m\n\u001b[1;32m    533\u001b[0m \u001b[0;34m\u001b[0m\u001b[0m\n",
      "\u001b[0;32m~/Work/vacuum-cleaner/.venv3/lib/python3.6/site-packages/astropy/io/fits/util.py\u001b[0m in \u001b[0;36mfileobj_open\u001b[0;34m(filename, mode)\u001b[0m\n\u001b[1;32m    386\u001b[0m     \"\"\"\n\u001b[1;32m    387\u001b[0m \u001b[0;34m\u001b[0m\u001b[0m\n\u001b[0;32m--> 388\u001b[0;31m     \u001b[0;32mreturn\u001b[0m \u001b[0mopen\u001b[0m\u001b[0;34m(\u001b[0m\u001b[0mfilename\u001b[0m\u001b[0;34m,\u001b[0m \u001b[0mmode\u001b[0m\u001b[0;34m,\u001b[0m \u001b[0mbuffering\u001b[0m\u001b[0;34m=\u001b[0m\u001b[0;36m0\u001b[0m\u001b[0;34m)\u001b[0m\u001b[0;34m\u001b[0m\u001b[0;34m\u001b[0m\u001b[0m\n\u001b[0m\u001b[1;32m    389\u001b[0m \u001b[0;34m\u001b[0m\u001b[0m\n\u001b[1;32m    390\u001b[0m \u001b[0;34m\u001b[0m\u001b[0m\n",
      "\u001b[0;31mFileNotFoundError\u001b[0m: [Errno 2] No such file or directory: '/scratch/vacuum-cleaner/final_eval_lr/gan_psf/test/run8/50000/fits/9700-outputs.fits'"
     ]
    }
   ],
   "source": [
    "l1_neural = []\n",
    "indexes = []\n",
    "l1_wsclean = []\n",
    "\n",
    "for number in range(test_start, test_end):\n",
    "    indexes.append(number)\n",
    "    target_path = \"{}{}-skymodel.fits\".format(test_set, number)\n",
    "    neural_model_path = \"{}{}-outputs.fits\".format(neural_output, number)\n",
    "    wsclean_model_path = \"{}{}-wsclean-model.fits\".format(test_set, number)\n",
    "    clean_beam_path = \"{}{}-clean-beam.fits\".format(test_set, number)\n",
    "    \n",
    "    clean_beam = open_fits(clean_beam_path)\n",
    "    target = open_fits(target_path)\n",
    "    wsclean_model = open_fits(wsclean_model_path)\n",
    "    neural_model = open_fits(neural_model_path )\n",
    "    \n",
    "    target_convolved = convolve(target, clean_beam)\n",
    "    neural_convolved = convolve(neural_model, clean_beam)\n",
    "    wsclean_convoled = convolve(wsclean_model, clean_beam)\n",
    "    \n",
    "    l1_neural.append(np.sum(np.abs( neural_model - target)))\n",
    "    l1_wsclean.append(np.sum(np.abs( wsclean_model - target)))\n"
   ]
  },
  {
   "cell_type": "code",
   "execution_count": null,
   "metadata": {},
   "outputs": [],
   "source": [
    "m = max(l1_wsclean + l1_neural)\n",
    "f, (a1) = plt.subplots(1, 1, figsize=(8,8))\n",
    "a1.plot(l1_neural, l1_wsclean, 'o')\n",
    "a1.plot([0, m], [0, m], 'r-')\n",
    "a1.set_xlabel('Vacuum Cleaner model')\n",
    "a1.set_ylabel('WSClean model')\n",
    "_ = a1.set_title('L1 distance between model and skymodel')\n",
    "\n",
    "for i, index in enumerate(indexes):\n",
    "    a1.annotate(index, (l1_neural[i], l1_wsclean[i]))"
   ]
  },
  {
   "cell_type": "code",
   "execution_count": null,
   "metadata": {},
   "outputs": [],
   "source": [
    "sum(l1_neural), np.average(l1_neural), np.mean(l1_neural)"
   ]
  },
  {
   "cell_type": "code",
   "execution_count": null,
   "metadata": {},
   "outputs": [],
   "source": [
    "l1_scaling = 1/ np.average(l1_wsclean)"
   ]
  },
  {
   "cell_type": "code",
   "execution_count": null,
   "metadata": {},
   "outputs": [],
   "source": [
    "np.average(l1_wsclean) * l1_scaling   # should be 1.0-"
   ]
  },
  {
   "cell_type": "code",
   "execution_count": null,
   "metadata": {},
   "outputs": [],
   "source": [
    "# this is our weighted scoring function, higher is worse, 1.0 is wsclean\n",
    "np.average(l1_neural) * l1_scaling "
   ]
  },
  {
   "cell_type": "code",
   "execution_count": null,
   "metadata": {},
   "outputs": [],
   "source": [
    "number = 9497\n",
    "target_path = \"{}{}-skymodel.fits\".format(test_set, number)\n",
    "psf_path = \"{}{}-psf.fits\".format(test_set, number)\n",
    "neural_model_path = \"{}{}-outputs.fits\".format(neural_output, number)\n",
    "wsclean_model_path = \"{}{}-wsclean-model.fits\".format(test_set, number)\n",
    "neural_residual_path = \"{}{}-residuals.fits\".format(neural_output, number)\n",
    "wsclean_residual_path = \"{}{}-wsclean-residual.fits\".format(test_set, number)\n",
    "dirty_path = \"{}{}-dirty.fits\".format(test_set, number)\n",
    "\n",
    "target = open_fits(target_path)\n",
    "dirty = open_fits(dirty_path)\n",
    "psf = open_fits(psf_path)\n",
    "clean_beam = open_fits(clean_beam_path)\n",
    "\n",
    "neural_model = open_fits(neural_model_path)\n",
    "wsclean_model = open_fits(wsclean_model_path)\n",
    "\n",
    "target_convoled = convolve(target, clean_beam)\n",
    "neural_convolved = convolve(neural_model, clean_beam)\n",
    "wsclean_convolved = convolve(wsclean_model, clean_beam)\n",
    "\n",
    "residuals_target = np.abs(dirty - convolve(target, psf))\n",
    "residual_neural = np.abs(dirty - convolve(neural_model, psf))\n",
    "residual_wsclean = np.abs(dirty - convolve(wsclean_model, psf))"
   ]
  },
  {
   "cell_type": "code",
   "execution_count": null,
   "metadata": {},
   "outputs": [],
   "source": [
    "f, ((a1, a2), (a3, a4), (a5, a6)) = plt.subplots(3, 2, figsize=(14,16))\n",
    "render(a1, dirty, 'dirty')\n",
    "render(a2, target_convoled, 'skymodel')\n",
    "render(a3, wsclean_model, 'wsclean_model')\n",
    "render(a4, residual_wsclean, 'residual_wsclean')\n",
    "render(a5, neural_model, 'neural_model')\n",
    "render(a6, residual_neural, 'residual_neural')"
   ]
  },
  {
   "cell_type": "code",
   "execution_count": null,
   "metadata": {},
   "outputs": [],
   "source": []
  },
  {
   "cell_type": "code",
   "execution_count": null,
   "metadata": {},
   "outputs": [],
   "source": []
  }
 ],
 "metadata": {
  "kernelspec": {
   "display_name": "Python 2",
   "language": "python",
   "name": "python2"
  },
  "language_info": {
   "codemirror_mode": {
    "name": "ipython",
    "version": 3
   },
   "file_extension": ".py",
   "mimetype": "text/x-python",
   "name": "python",
   "nbconvert_exporter": "python",
   "pygments_lexer": "ipython3",
   "version": "3.6.5"
  }
 },
 "nbformat": 4,
 "nbformat_minor": 2
}
