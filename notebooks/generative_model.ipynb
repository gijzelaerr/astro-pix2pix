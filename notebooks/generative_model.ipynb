{
 "cells": [
  {
   "cell_type": "code",
   "execution_count": 1,
   "metadata": {},
   "outputs": [],
   "source": [
    "import numpy as np\n",
    "import matplotlib.pyplot as plt\n",
    "from scipy.signal import fftconvolve, convolve2d\n",
    "from vacuum.datasets import generative_model, generator\n",
    "from vacuum.io_ import fits_open, preprocess\n",
    "from astropy.io import fits\n",
    "from glob import glob\n",
    "import tensorflow as tf\n",
    "%matplotlib inline"
   ]
  },
  {
   "cell_type": "code",
   "execution_count": 2,
   "metadata": {},
   "outputs": [],
   "source": [
    "tf.enable_eager_execution()"
   ]
  },
  {
   "cell_type": "code",
   "execution_count": 3,
   "metadata": {},
   "outputs": [],
   "source": [
    "psf_glob = \"/scratch/datasets/meerkat16_deep2like_morerange/*-bigpsf-psf.fits\"\n",
    "psfs = glob(psf_glob)\n",
    "g = generator(psfs)"
   ]
  },
  {
   "cell_type": "code",
   "execution_count": 4,
   "metadata": {},
   "outputs": [],
   "source": [
    "batch = generative_model(psf_glob)\n",
    "iterator = batch.make_one_shot_iterator()\n",
    "index, min_flux, max_flux, psf, dirty, skymodel = iterator.get_next()"
   ]
  },
  {
   "cell_type": "code",
   "execution_count": 5,
   "metadata": {},
   "outputs": [
    {
     "data": {
      "text/plain": [
       "<tf.Tensor: id=204, shape=(1, 256, 256, 1), dtype=float32, numpy=\n",
       "array([[[[-1.0141234 ],\n",
       "         [-1.0246263 ],\n",
       "         [-1.0371457 ],\n",
       "         ...,\n",
       "         [-0.96788   ],\n",
       "         [-0.9811036 ],\n",
       "         [-0.9945544 ]],\n",
       "\n",
       "        [[-1.0157031 ],\n",
       "         [-1.0254288 ],\n",
       "         [-1.0315256 ],\n",
       "         ...,\n",
       "         [-0.9601141 ],\n",
       "         [-0.963063  ],\n",
       "         [-0.9742155 ]],\n",
       "\n",
       "        [[-1.0149716 ],\n",
       "         [-1.0258806 ],\n",
       "         [-1.0277456 ],\n",
       "         ...,\n",
       "         [-0.96712446],\n",
       "         [-0.9553917 ],\n",
       "         [-0.95779693]],\n",
       "\n",
       "        ...,\n",
       "\n",
       "        [[-1.0007104 ],\n",
       "         [-0.99829   ],\n",
       "         [-1.002565  ],\n",
       "         ...,\n",
       "         [-1.0062639 ],\n",
       "         [-1.0069268 ],\n",
       "         [-0.99163795]],\n",
       "\n",
       "        [[-0.9959962 ],\n",
       "         [-0.9867848 ],\n",
       "         [-0.9845023 ],\n",
       "         ...,\n",
       "         [-1.004637  ],\n",
       "         [-1.0132957 ],\n",
       "         [-1.0008702 ]],\n",
       "\n",
       "        [[-0.9952517 ],\n",
       "         [-0.98433024],\n",
       "         [-0.9757155 ],\n",
       "         ...,\n",
       "         [-1.0137914 ],\n",
       "         [-1.0287554 ],\n",
       "         [-1.0127306 ]]]], dtype=float32)>"
      ]
     },
     "execution_count": 5,
     "metadata": {},
     "output_type": "execute_result"
    }
   ],
   "source": [
    "preprocess(dirty, min_flux, max_flux)"
   ]
  },
  {
   "cell_type": "code",
   "execution_count": null,
   "metadata": {},
   "outputs": [],
   "source": []
  }
 ],
 "metadata": {
  "kernelspec": {
   "display_name": "Python 2",
   "language": "python",
   "name": "python2"
  },
  "language_info": {
   "codemirror_mode": {
    "name": "ipython",
    "version": 3
   },
   "file_extension": ".py",
   "mimetype": "text/x-python",
   "name": "python",
   "nbconvert_exporter": "python",
   "pygments_lexer": "ipython3",
   "version": "3.6.5"
  }
 },
 "nbformat": 4,
 "nbformat_minor": 2
}
