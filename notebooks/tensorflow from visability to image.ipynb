{
 "cells": [
  {
   "cell_type": "code",
   "execution_count": 1,
   "metadata": {},
   "outputs": [],
   "source": [
    "import tensorflow as tf\n",
    "tf.enable_eager_execution()"
   ]
  },
  {
   "cell_type": "code",
   "execution_count": 2,
   "metadata": {
    "scrolled": true
   },
   "outputs": [],
   "source": [
    "from scipy.signal import fftconvolve\n",
    "from astropy.io import fits\n",
    "import numpy as np\n",
    "import math\n",
    "from pathlib import Path\n",
    "from io import BytesIO\n",
    "import matplotlib.pyplot as plt\n",
    "%matplotlib inline"
   ]
  },
  {
   "cell_type": "code",
   "execution_count": 13,
   "metadata": {},
   "outputs": [],
   "source": [
    "from vacuum.model import create_model\n",
    "from vacuum.io_ import load_data, preprocess, deprocess, fits_open\n",
    "from vacuum.util import shift"
   ]
  },
  {
   "cell_type": "code",
   "execution_count": 23,
   "metadata": {},
   "outputs": [],
   "source": [
    "INPUT_DIR = \"/scratch/gijs/datasets/meerkat16\"\n",
    "\n",
    "SEPARABLE_CONV = False   # use separable convolutions in the generator\n",
    "NGF = 64                 # number of generator filters in first conv layer\n",
    "NDF = 64                 # number of discriminator filters in first conv laye\n",
    "BATCH_SIZE = 1           # number of images in batch\n",
    "CROP_SIZE = 256\n",
    "EPS = 1e-12\n",
    "FLIP = False              # flip images horizontally during training\n",
    "SCALE_SIZE = 256         # scale images to this size before cropping to 256x256\n",
    "MAX_EPOCHS = 1           # number of training epochs\n",
    "LR = 0.0002              # initial learning rate for adam\n",
    "BETA1 = 0.5              # momentum term of adam\n",
    "L1_WEIGHT = 100.0        # weight on L1 term for generator gradient\n",
    "GAN_WEIGHT = 1.0         # weight on GAN term for generator gradient\n",
    "INPUT_MULTIPLY = 1.0     # Use this to scale in the max input fluxes to about 5 Jy \n",
    "DATA_START = 1840\n",
    "DATA_END = 1899"
   ]
  },
  {
   "cell_type": "code",
   "execution_count": 24,
   "metadata": {},
   "outputs": [
    {
     "name": "stdout",
     "output_type": "stream",
     "text": [
      "examples count = 59\n"
     ]
    }
   ],
   "source": [
    "batch, count = load_data(INPUT_DIR, CROP_SIZE, FLIP, SCALE_SIZE, MAX_EPOCHS,\n",
    "                         BATCH_SIZE, start=DATA_START, end=DATA_END)\n",
    "steps_per_epoch = int(math.ceil(count / BATCH_SIZE))\n",
    "iter = batch.make_one_shot_iterator()\n",
    "index, min_flux, max_flux, psf, dirty, skymodel = iter.get_next()\n",
    "print(\"examples count = %d\" % count)"
   ]
  },
  {
   "cell_type": "code",
   "execution_count": 25,
   "metadata": {
    "scrolled": false
   },
   "outputs": [],
   "source": [
    "scaled_dirty = preprocess(dirty, min_flux, max_flux)\n",
    "scaled_skymodel = preprocess(skymodel, min_flux, max_flux)\n",
    "scaled_psf = preprocess(psf, min_flux, max_flux)"
   ]
  },
  {
   "cell_type": "code",
   "execution_count": 33,
   "metadata": {},
   "outputs": [],
   "source": [
    "deprocessed_output = deprocess(skymodel, min_flux, max_flux)\n",
    "deprocessed_dirty = deprocess(dirty, min_flux, max_flux)"
   ]
  },
  {
   "cell_type": "code",
   "execution_count": 34,
   "metadata": {},
   "outputs": [
    {
     "data": {
      "text/plain": [
       "TensorShape([Dimension(1), Dimension(256), Dimension(256), Dimension(1)])"
      ]
     },
     "execution_count": 34,
     "metadata": {},
     "output_type": "execute_result"
    }
   ],
   "source": [
    "shifted = shift(psf, y=0, x=-1)\n",
    "shifted.shape"
   ]
  },
  {
   "cell_type": "code",
   "execution_count": 35,
   "metadata": {},
   "outputs": [
    {
     "data": {
      "text/plain": [
       "TensorShape([Dimension(256), Dimension(256), Dimension(1), Dimension(1)])"
      ]
     },
     "execution_count": 35,
     "metadata": {},
     "output_type": "execute_result"
    }
   ],
   "source": [
    "filter_ = tf.expand_dims(tf.expand_dims(tf.squeeze(shifted), 2), 3)\n",
    "filter_.shape"
   ]
  },
  {
   "cell_type": "code",
   "execution_count": 37,
   "metadata": {},
   "outputs": [
    {
     "data": {
      "text/plain": [
       "TensorShape([Dimension(1), Dimension(256), Dimension(256), Dimension(1)])"
      ]
     },
     "execution_count": 37,
     "metadata": {},
     "output_type": "execute_result"
    }
   ],
   "source": [
    "convolved = tf.nn.conv2d(deprocessed_output, filter_, [1, 1, 1, 1], \"SAME\")\n",
    "convolved.shape"
   ]
  },
  {
   "cell_type": "code",
   "execution_count": 39,
   "metadata": {},
   "outputs": [
    {
     "data": {
      "text/plain": [
       "TensorShape([Dimension(1), Dimension(256), Dimension(1), Dimension(1), Dimension(256), Dimension(1)])"
      ]
     },
     "execution_count": 39,
     "metadata": {},
     "output_type": "execute_result"
    }
   ],
   "source": [
    "gen_loss_RES = tf.tensordot(deprocessed_output, (-2 * deprocessed_dirty + convolved ), (1, 2))\n",
    "gen_loss_RES.shape"
   ]
  },
  {
   "cell_type": "code",
   "execution_count": 44,
   "metadata": {},
   "outputs": [
    {
     "data": {
      "text/plain": [
       "<tf.Tensor: id=700, shape=(), dtype=float32, numpy=109013.24>"
      ]
     },
     "execution_count": 44,
     "metadata": {},
     "output_type": "execute_result"
    }
   ],
   "source": [
    "tf.reduce_sum(tf.multiply(deprocessed_output, convolved -2 * deprocessed_dirty))"
   ]
  },
  {
   "cell_type": "code",
   "execution_count": null,
   "metadata": {},
   "outputs": [],
   "source": []
  }
 ],
 "metadata": {
  "kernelspec": {
   "display_name": "Python 3",
   "language": "python",
   "name": "python3"
  },
  "language_info": {
   "codemirror_mode": {
    "name": "ipython",
    "version": 3
   },
   "file_extension": ".py",
   "mimetype": "text/x-python",
   "name": "python",
   "nbconvert_exporter": "python",
   "pygments_lexer": "ipython3",
   "version": "3.6.5"
  }
 },
 "nbformat": 4,
 "nbformat_minor": 2
}
