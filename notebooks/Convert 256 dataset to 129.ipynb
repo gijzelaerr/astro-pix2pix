{
 "cells": [
  {
   "cell_type": "code",
   "execution_count": 8,
   "metadata": {},
   "outputs": [],
   "source": [
    "from pathlib import Path\n",
    "from astropy.io import fits"
   ]
  },
  {
   "cell_type": "code",
   "execution_count": 12,
   "metadata": {},
   "outputs": [],
   "source": [
    "in_ = Path(\"/scratch/datasets/astro_deconv_2019\")\n",
    "out_ = Path(\"/scratch/datasets/astro_deconv_2019_129x129\")"
   ]
  },
  {
   "cell_type": "code",
   "execution_count": 15,
   "metadata": {},
   "outputs": [],
   "source": [
    "if not out_.is_dir():\n",
    "    out_.mkdir()"
   ]
  },
  {
   "cell_type": "code",
   "execution_count": 39,
   "metadata": {},
   "outputs": [],
   "source": [
    "for i in in_.glob('*.fits'):\n",
    "    f = fits.open(i)\n",
    "\n",
    "    target = str(out_ / i.name)\n",
    "\n",
    "    offset = 256//4\n",
    "    data = f[0].data.squeeze()[offset:offset+129, offset:offset+129]\n",
    "    assert(data.shape == (129, 129))\n",
    "    hdu = fits.PrimaryHDU(data)\n",
    "    hdul = fits.HDUList([hdu])\n",
    "    hdul.header = f[0].header\n",
    "    hdul.writeto(target, overwrite=True)"
   ]
  },
  {
   "cell_type": "code",
   "execution_count": null,
   "metadata": {},
   "outputs": [],
   "source": []
  }
 ],
 "metadata": {
  "kernelspec": {
   "display_name": "Python 3",
   "language": "python",
   "name": "python3"
  },
  "language_info": {
   "codemirror_mode": {
    "name": "ipython",
    "version": 3
   },
   "file_extension": ".py",
   "mimetype": "text/x-python",
   "name": "python",
   "nbconvert_exporter": "python",
   "pygments_lexer": "ipython3",
   "version": "3.6.5"
  }
 },
 "nbformat": 4,
 "nbformat_minor": 2
}
