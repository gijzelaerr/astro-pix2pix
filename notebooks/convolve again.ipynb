{
 "cells": [
  {
   "cell_type": "code",
   "execution_count": 2,
   "metadata": {},
   "outputs": [],
   "source": [
    "from scipy.signal import fftconvolve\n",
    "from astropy.io import fits\n",
    "import matplotlib.pyplot as plt\n",
    "%matplotlib inline"
   ]
  },
  {
   "cell_type": "code",
   "execution_count": 3,
   "metadata": {},
   "outputs": [
    {
     "name": "stdout",
     "output_type": "stream",
     "text": [
      "ddf-model.fits\tpsf-big.fits\t   vacuum-residual.fits\r\n",
      "dirty.fits\tvacuum-model.fits\r\n"
     ]
    }
   ],
   "source": [
    "!ls ~/examples/ddf"
   ]
  },
  {
   "cell_type": "code",
   "execution_count": 30,
   "metadata": {},
   "outputs": [],
   "source": [
    "dirty = fits.open('/home/gijs/examples/ddf/dirty.fits')[0].data.squeeze()\n",
    "model = fits.open('/home/gijs/examples/ddf/ddf-model.fits')[0].data.squeeze()\n",
    "psf = fits.open('/home/gijs/examples/ddf/psf-big.fits')[0].data.squeeze()/psf.max()"
   ]
  },
  {
   "cell_type": "code",
   "execution_count": 31,
   "metadata": {},
   "outputs": [
    {
     "data": {
      "text/plain": [
       "0.007360726795758535"
      ]
     },
     "execution_count": 31,
     "metadata": {},
     "output_type": "execute_result"
    }
   ],
   "source": [
    "p = psf.shape[0]\n",
    "r = slice(p // 2+1, -p // 2 + 2)\n",
    "convolved = fftconvolve(model, psf, mode=\"full\")[r, r]\n",
    "residual = dirty - convolved\n",
    "residual.max()"
   ]
  },
  {
   "cell_type": "code",
   "execution_count": 35,
   "metadata": {},
   "outputs": [],
   "source": [
    "hdu = fits.PrimaryHDU(residual.squeeze().astype('>f4'))\n",
    "hdu.header = fits.open('/home/gijs/examples/ddf/dirty.fits')[0].header\n",
    "hdul = fits.HDUList([hdu])\n",
    "hdul.writeto(\"/home/gijs/examples/ddf/ddf-residual.fits\", overwrite=True)"
   ]
  }
 ],
 "metadata": {
  "kernelspec": {
   "display_name": "Python 3",
   "language": "python",
   "name": "python3"
  },
  "language_info": {
   "codemirror_mode": {
    "name": "ipython",
    "version": 3.0
   },
   "file_extension": ".py",
   "mimetype": "text/x-python",
   "name": "python",
   "nbconvert_exporter": "python",
   "pygments_lexer": "ipython3",
   "version": "3.6.5"
  }
 },
 "nbformat": 4,
 "nbformat_minor": 0
}