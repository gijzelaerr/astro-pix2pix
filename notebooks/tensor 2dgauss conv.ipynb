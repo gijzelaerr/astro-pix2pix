{
 "cells": [
  {
   "cell_type": "code",
   "execution_count": 2,
   "metadata": {},
   "outputs": [],
   "source": [
    "import tensorflow as tf\n",
    "tf.enable_eager_execution()"
   ]
  },
  {
   "cell_type": "code",
   "execution_count": 3,
   "metadata": {
    "scrolled": true
   },
   "outputs": [],
   "source": [
    "from scipy.signal import fftconvolve\n",
    "from astropy.io import fits\n",
    "import numpy as np\n",
    "import math\n",
    "from pathlib import Path\n",
    "from io import BytesIO\n",
    "import matplotlib.pyplot as plt\n",
    "from vacuum.model import create_model\n",
    "from vacuum.io_ import load_data, preprocess, deprocess, fits_open\n",
    "%matplotlib inline"
   ]
  },
  {
   "cell_type": "code",
   "execution_count": 4,
   "metadata": {},
   "outputs": [],
   "source": [
    "INPUT_DIR = \"/scratch/datasets/meerkat16_deep2like_morerange/\""
   ]
  },
  {
   "cell_type": "code",
   "execution_count": 5,
   "metadata": {},
   "outputs": [
    {
     "name": "stdout",
     "output_type": "stream",
     "text": [
      "WARNING:tensorflow:From /home/gijs/Work/vacuum-cleaner/.venv3/lib/python3.6/site-packages/tensorflow/python/data/ops/dataset_ops.py:429: py_func (from tensorflow.python.ops.script_ops) is deprecated and will be removed in a future version.\n",
      "Instructions for updating:\n",
      "tf.py_func is deprecated in TF V2. Instead, use\n",
      "    tf.py_function, which takes a python function which manipulates tf eager\n",
      "    tensors instead of numpy arrays. It's easy to convert a tf eager tensor to\n",
      "    an ndarray (just call tensor.numpy()) but having access to eager tensors\n",
      "    means `tf.py_function`s can use accelerators such as GPUs as well as\n",
      "    being differentiable using a gradient tape.\n",
      "    \n"
     ]
    }
   ],
   "source": [
    "batch, count = load_data(INPUT_DIR)\n",
    "iter = batch.make_one_shot_iterator()\n",
    "index, min_flux, max_flux, psf, dirty, skymodel = iter.get_next()"
   ]
  },
  {
   "cell_type": "code",
   "execution_count": 6,
   "metadata": {
    "scrolled": false
   },
   "outputs": [],
   "source": [
    "scaled_dirty = preprocess(dirty, min_flux, max_flux)\n",
    "scaled_skymodel = preprocess(skymodel, min_flux, max_flux)\n",
    "scaled_psf = preprocess(psf, min_flux, max_flux)"
   ]
  },
  {
   "cell_type": "code",
   "execution_count": null,
   "metadata": {},
   "outputs": [],
   "source": [
    "def gaussian_kernel(size: int, mean: float, std: float, ):\n",
    "    d = tf.distributions.Normal(mean, std)\n",
    "    vals = d.prob(tf.range(start = -size, limit=size+1, dtype=tf.float32))\n",
    "    gauss_kernel = tf.einsum('i,j->ij', vals, vals)\n",
    "    return gauss_kernel / tf.reduce_max(gauss_kernel)\n",
    "    #return gauss_kernel / tf.reduce_sum(gauss_kernel)"
   ]
  },
  {
   "cell_type": "code",
   "execution_count": null,
   "metadata": {},
   "outputs": [],
   "source": [
    "gauss_kernel = gaussian_kernel( 1, 0.0, 0.8 )[:, :, tf.newaxis, tf.newaxis]\n",
    "x = tf.nn.conv2d(skymodel, gauss_kernel, strides=[1, 1, 1, 1], padding=\"SAME\")\n",
    "fig, ax = plt.subplots(figsize=(10, 10))\n",
    "ax.imshow(tf.squeeze(gauss_kernel))\n",
    "_ = fig.colorbar(ax.pcolor(tf.squeeze(gauss_kernel)), ax=ax)"
   ]
  },
  {
   "cell_type": "code",
   "execution_count": null,
   "metadata": {},
   "outputs": [],
   "source": [
    "fig, ax = plt.subplots(figsize=(30, 20))\n",
    "ax.imshow(tf.squeeze(x))\n",
    "_ = fig.colorbar(ax.pcolor(tf.squeeze(x)), ax=ax)"
   ]
  },
  {
   "cell_type": "code",
   "execution_count": null,
   "metadata": {},
   "outputs": [],
   "source": [
    "fig, ax = plt.subplots(figsize=(30, 20))\n",
    "ax.imshow(tf.squeeze(skymodel))\n",
    "_ = fig.colorbar(ax.pcolor(tf.squeeze(skymodel)), ax=ax)"
   ]
  },
  {
   "cell_type": "code",
   "execution_count": null,
   "metadata": {},
   "outputs": [],
   "source": [
    "scale_size = 285\n",
    "crop_size = 256\n",
    "seed = 1\n",
    "scaled = tf.image.resize_images(skymodel, [scale_size, scale_size], method=tf.image.ResizeMethod.AREA)\n",
    "offset = tf.cast(tf.floor(tf.random_uniform([2], 0, scale_size - crop_size + 1, seed=seed)), dtype=tf.int32)\n",
    "scaled = tf.image.crop_to_bounding_box(scaled, offset[0], offset[1], crop_size, crop_size)\n",
    "\n",
    "fig, ax = plt.subplots(figsize=(30, 20))\n",
    "ax.imshow(tf.squeeze(scaled))\n",
    "_ = fig.colorbar(ax.pcolor(tf.squeeze(scaled)), ax=ax)"
   ]
  },
  {
   "cell_type": "code",
   "execution_count": null,
   "metadata": {},
   "outputs": [],
   "source": []
  }
 ],
 "metadata": {
  "kernelspec": {
   "display_name": "Python 3",
   "language": "python",
   "name": "python3"
  },
  "language_info": {
   "codemirror_mode": {
    "name": "ipython",
    "version": 3
   },
   "file_extension": ".py",
   "mimetype": "text/x-python",
   "name": "python",
   "nbconvert_exporter": "python",
   "pygments_lexer": "ipython3",
   "version": "3.6.5"
  }
 },
 "nbformat": 4,
 "nbformat_minor": 2
}
